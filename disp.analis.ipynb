{
 "cells": [
  {
   "cell_type": "markdown",
   "id": "ee11a81a",
   "metadata": {},
   "source": [
    "## Дисперсионный анализ."
   ]
  },
  {
   "cell_type": "markdown",
   "id": "6645331c",
   "metadata": {},
   "source": [
    "### Провести дисперсионный анализ для определения того, есть ли различия среднего роста среди взрослых футболистов, хоккеистов и штангистов. Даны значения роста в трех группах случайно выбранных спортсменов: Футболисты: 173, 175, 180, 178, 177, 185, 183, 182. Хоккеисты: 177, 179, 180, 188, 177, 172, 171, 184, 180. Штангисты: 172, 173, 169, 177, 166, 180, 178, 177, 172, 166, 170. alpha = 0.05."
   ]
  },
  {
   "cell_type": "code",
   "execution_count": 44,
   "id": "a8db2a1a",
   "metadata": {},
   "outputs": [],
   "source": [
    "import numpy as np"
   ]
  },
  {
   "cell_type": "code",
   "execution_count": 45,
   "id": "87df5bb9",
   "metadata": {},
   "outputs": [
    {
     "name": "stdout",
     "output_type": "stream",
     "text": [
      "28\n"
     ]
    }
   ],
   "source": [
    "n1 = 8\n",
    "n2 = 9\n",
    "n3 = 11\n",
    "n = n1 + n2 + n3\n",
    "print(n)"
   ]
  },
  {
   "cell_type": "code",
   "execution_count": 46,
   "id": "16e53bac",
   "metadata": {},
   "outputs": [],
   "source": [
    "# Всего три группы:\n",
    "k = 3"
   ]
  },
  {
   "cell_type": "code",
   "execution_count": 47,
   "id": "068c6101",
   "metadata": {},
   "outputs": [],
   "source": [
    "     # Рост футболистов:\n",
    "y1_fb = np.array([173, 175, 180, 178, 177, 185, 183, 182])\n",
    "    # Рост хоккеистов:\n",
    "y2_hc = np.array([177, 179, 180, 188, 177, 172, 171, 184, 180])\n",
    "     # Рост штангистов:\n",
    "y3_sht = np.array([172, 173, 169, 177, 166, 180, 178, 177, 172, 166, 170])"
   ]
  },
  {
   "cell_type": "markdown",
   "id": "c61c7ca5",
   "metadata": {},
   "source": [
    "### Проведем однофакторный дисперсионный анализ. \n",
    "Сначала найдем среднее значение роста для каждой группы спортсменов:"
   ]
  },
  {
   "cell_type": "code",
   "execution_count": 48,
   "id": "f0803110",
   "metadata": {},
   "outputs": [
    {
     "data": {
      "text/plain": [
       "(179.125, 178.66666666666666, 172.72727272727272)"
      ]
     },
     "execution_count": 48,
     "metadata": {},
     "output_type": "execute_result"
    }
   ],
   "source": [
    "fb_mean = y1_fb.mean()\n",
    "hc_mean = y2_hc.mean()\n",
    "sht_mean = y3_sht.mean()\n",
    "fb_mean, hc_mean, sht_mean"
   ]
  },
  {
   "cell_type": "markdown",
   "id": "98bc2025",
   "metadata": {},
   "source": [
    "Видно, что средние значения разнятся. Установим, что это отличие статистически значимо. Для этого сначала соберем все значения pocтa в один массив:"
   ]
  },
  {
   "cell_type": "code",
   "execution_count": 49,
   "id": "f1663484",
   "metadata": {},
   "outputs": [
    {
     "data": {
      "text/plain": [
       "array([173, 175, 180, 178, 177, 185, 183, 182, 177, 179, 180, 188, 177,\n",
       "       172, 171, 184, 180, 172, 173, 169, 177, 166, 180, 178, 177, 172,\n",
       "       166, 170])"
      ]
     },
     "execution_count": 49,
     "metadata": {},
     "output_type": "execute_result"
    }
   ],
   "source": [
    "y_all = np.concatenate([y1_fb, y2_hc, y3_sht], axis=0)\n",
    "y_all"
   ]
  },
  {
   "cell_type": "code",
   "execution_count": 50,
   "id": "9243208d",
   "metadata": {},
   "outputs": [
    {
     "data": {
      "text/plain": [
       "176.46428571428572"
      ]
     },
     "execution_count": 50,
     "metadata": {},
     "output_type": "execute_result"
    }
   ],
   "source": [
    "# Найдем среднее значение роста по всем значениям:\n",
    "all_mean = y_all.mean()\n",
    "all_mean"
   ]
  },
  {
   "cell_type": "code",
   "execution_count": 51,
   "id": "62128092",
   "metadata": {},
   "outputs": [
    {
     "data": {
      "text/plain": [
       "830.9642857142854"
      ]
     },
     "execution_count": 51,
     "metadata": {},
     "output_type": "execute_result"
    }
   ],
   "source": [
    "# Найдем S^2 — сумму квадратов отклонений наблюдений от общего среднего:\n",
    "all_s2 = np.sum((y_all - all_mean)**2)\n",
    "all_s2"
   ]
  },
  {
   "cell_type": "code",
   "execution_count": 52,
   "id": "c33f4dec",
   "metadata": {},
   "outputs": [
    {
     "data": {
      "text/plain": [
       "253.9074675324678"
      ]
     },
     "execution_count": 52,
     "metadata": {},
     "output_type": "execute_result"
    }
   ],
   "source": [
    "# Найдем S^2_F - сумму квадратов отклонений средних групповых значений от общего среднего:\n",
    "s2f = ((fb_mean - all_mean)**2) * n1 + ((hc_mean - all_mean)**2) * n2 + ((sht_mean - all_mean)**2) * n3\n",
    "s2f"
   ]
  },
  {
   "cell_type": "code",
   "execution_count": 53,
   "id": "e0d0fe61",
   "metadata": {},
   "outputs": [
    {
     "data": {
      "text/plain": [
       "577.0568181818182"
      ]
     },
     "execution_count": 53,
     "metadata": {},
     "output_type": "execute_result"
    }
   ],
   "source": [
    "# Найдем S^2_{ост} — остаточную сумму квадратов отклонений:\n",
    "s2ost = np.sum((y1_fb - fb_mean)**2) + np.sum((y2_hc - hc_mean)**2) + np.sum((y3_sht - sht_mean)**2)\n",
    "s2ost"
   ]
  },
  {
   "cell_type": "code",
   "execution_count": 54,
   "id": "b0cad0ba",
   "metadata": {},
   "outputs": [
    {
     "data": {
      "text/plain": [
       "830.964285714286"
      ]
     },
     "execution_count": 54,
     "metadata": {},
     "output_type": "execute_result"
    }
   ],
   "source": [
    "# Удостоверимся, что соблюдается равенство S^2 = S_F^2 + S_{ост}^2:\n",
    "s2ost + s2f"
   ]
  },
  {
   "cell_type": "code",
   "execution_count": 55,
   "id": "b81053a6",
   "metadata": {},
   "outputs": [
    {
     "data": {
      "text/plain": [
       "30.776455026455015"
      ]
     },
     "execution_count": 55,
     "metadata": {},
     "output_type": "execute_result"
    }
   ],
   "source": [
    "# Найдем общую дисперсию:\n",
    "sigma2_general = all_s2 / (n - 1)\n",
    "sigma2_general"
   ]
  },
  {
   "cell_type": "code",
   "execution_count": 56,
   "id": "d5072c80",
   "metadata": {},
   "outputs": [
    {
     "data": {
      "text/plain": [
       "126.9537337662339"
      ]
     },
     "execution_count": 56,
     "metadata": {},
     "output_type": "execute_result"
    }
   ],
   "source": [
    "# Найдем общую дисперсию:\n",
    "sigma2_factor = s2f / (k - 1)\n",
    "sigma2_factor\n"
   ]
  },
  {
   "cell_type": "code",
   "execution_count": 57,
   "id": "655f8b20",
   "metadata": {},
   "outputs": [
    {
     "data": {
      "text/plain": [
       "23.08227272727273"
      ]
     },
     "execution_count": 57,
     "metadata": {},
     "output_type": "execute_result"
    }
   ],
   "source": [
    "#  Найдем остаточную дисперсию:\n",
    "sigma2_residual = s2ost / (n - k)\n",
    "sigma2_residual"
   ]
  },
  {
   "cell_type": "code",
   "execution_count": 58,
   "id": "3e5f458c",
   "metadata": {},
   "outputs": [
    {
     "data": {
      "text/plain": [
       "5.500053450812598"
      ]
     },
     "execution_count": 58,
     "metadata": {},
     "output_type": "execute_result"
    }
   ],
   "source": [
    "# Вычислим F_H:\n",
    "F_h = s2_factor / s2_residual\n",
    "F_h"
   ]
  },
  {
   "cell_type": "code",
   "execution_count": 59,
   "id": "1ca1278b",
   "metadata": {},
   "outputs": [
    {
     "data": {
      "text/plain": [
       "2"
      ]
     },
     "execution_count": 59,
     "metadata": {},
     "output_type": "execute_result"
    }
   ],
   "source": [
    "# Найдем значение F_{крит} в таблице критических точек распределения Фишера-Снедекора\n",
    "# для заданного уровня значимости alpha = 0.05 и двух степеней свободы: \n",
    "# df_{межд} = k - 1 и df_{внутр} = n - k.\n",
    "df_1 = 3 - 1\n",
    "df_1\n"
   ]
  },
  {
   "cell_type": "code",
   "execution_count": 64,
   "id": "5792c5e2",
   "metadata": {},
   "outputs": [
    {
     "data": {
      "text/plain": [
       "25"
      ]
     },
     "execution_count": 64,
     "metadata": {},
     "output_type": "execute_result"
    }
   ],
   "source": [
    "df_2 = y_all.size - 3\n",
    "df_2"
   ]
  },
  {
   "cell_type": "code",
   "execution_count": 61,
   "id": "2e2b01df",
   "metadata": {},
   "outputs": [],
   "source": [
    "# из таблицы распределения Фишера - Снедекора\n",
    "f_kr = 3.38"
   ]
  },
  {
   "cell_type": "code",
   "execution_count": 62,
   "id": "2ef2e7a3",
   "metadata": {},
   "outputs": [
    {
     "data": {
      "text/plain": [
       "True"
      ]
     },
     "execution_count": 62,
     "metadata": {},
     "output_type": "execute_result"
    }
   ],
   "source": [
    "F_h > f_kr\n"
   ]
  },
  {
   "cell_type": "code",
   "execution_count": 65,
   "id": "4f714d5e",
   "metadata": {},
   "outputs": [
    {
     "data": {
      "text/plain": [
       "0.30555761769498"
      ]
     },
     "execution_count": 65,
     "metadata": {},
     "output_type": "execute_result"
    }
   ],
   "source": [
    "# Вычислим эмпирическое корреляционное отношение eta^2:\n",
    "eta2 = s2f / all_s2\n",
    "eta2"
   ]
  },
  {
   "cell_type": "markdown",
   "id": "c1122989",
   "metadata": {},
   "source": [
    "## Вывод:  Так как F_H > F_{крит}, различие средних значений роста в трех группах статистически значимо."
   ]
  }
 ],
 "metadata": {
  "kernelspec": {
   "display_name": "Python 3 (ipykernel)",
   "language": "python",
   "name": "python3"
  },
  "language_info": {
   "codemirror_mode": {
    "name": "ipython",
    "version": 3
   },
   "file_extension": ".py",
   "mimetype": "text/x-python",
   "name": "python",
   "nbconvert_exporter": "python",
   "pygments_lexer": "ipython3",
   "version": "3.9.13"
  }
 },
 "nbformat": 4,
 "nbformat_minor": 5
}
