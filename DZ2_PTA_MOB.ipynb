{
 "cells": [
  {
   "cell_type": "code",
   "execution_count": 1,
   "id": "368fb157",
   "metadata": {},
   "outputs": [],
   "source": [
    "import pandas as pd"
   ]
  },
  {
   "cell_type": "code",
   "execution_count": 2,
   "id": "8b186e5e",
   "metadata": {},
   "outputs": [
    {
     "name": "stdout",
     "output_type": "stream",
     "text": [
      "(27000, 2)\n"
     ]
    },
    {
     "data": {
      "text/html": [
       "<div>\n",
       "<style scoped>\n",
       "    .dataframe tbody tr th:only-of-type {\n",
       "        vertical-align: middle;\n",
       "    }\n",
       "\n",
       "    .dataframe tbody tr th {\n",
       "        vertical-align: top;\n",
       "    }\n",
       "\n",
       "    .dataframe thead th {\n",
       "        text-align: right;\n",
       "    }\n",
       "</style>\n",
       "<table border=\"1\" class=\"dataframe\">\n",
       "  <thead>\n",
       "    <tr style=\"text-align: right;\">\n",
       "      <th></th>\n",
       "      <th>doc_id</th>\n",
       "      <th>title</th>\n",
       "    </tr>\n",
       "  </thead>\n",
       "  <tbody>\n",
       "    <tr>\n",
       "      <th>0</th>\n",
       "      <td>6</td>\n",
       "      <td>Заместитель председателяnправительства РФnСерг...</td>\n",
       "    </tr>\n",
       "    <tr>\n",
       "      <th>1</th>\n",
       "      <td>4896</td>\n",
       "      <td>Матч 1/16 финала Кубка России по футболу был п...</td>\n",
       "    </tr>\n",
       "    <tr>\n",
       "      <th>2</th>\n",
       "      <td>4897</td>\n",
       "      <td>Форвард «Авангарда» Томаш Заборский прокоммент...</td>\n",
       "    </tr>\n",
       "  </tbody>\n",
       "</table>\n",
       "</div>"
      ],
      "text/plain": [
       "   doc_id                                              title\n",
       "0       6  Заместитель председателяnправительства РФnСерг...\n",
       "1    4896  Матч 1/16 финала Кубка России по футболу был п...\n",
       "2    4897  Форвард «Авангарда» Томаш Заборский прокоммент..."
      ]
     },
     "execution_count": 2,
     "metadata": {},
     "output_type": "execute_result"
    }
   ],
   "source": [
    "news = pd.read_csv('D:/task/articles.csv')\n",
    "print(news.shape)\n",
    "news.head(3)"
   ]
  },
  {
   "cell_type": "code",
   "execution_count": 3,
   "id": "b2465a54",
   "metadata": {},
   "outputs": [
    {
     "data": {
      "text/plain": [
       "'Заместитель председателяnправительства РФnСергейnИвановnизбран председателем советаnПБК ЦСКАn. Как сообщаетnпресс-службаnармейцев, такое решение было единогласно принято на первом заседании совета клуба. Основной функцией этого органа будет обсуждение текущего состояния, планирование и утверждение стратегии развития клуба на ближайшую перспективу.nnВ состав совета вошли:nГеоргий Полтавченкоn(полномочный представитель президента в Центральном федеральном округе),nАлексей Седовn(генерал-полковник, начальник службы по защите конституционного строя и борьбе с терроризмомnФСБ РФn),nАлександр Новакn(заместитель министра финансов РФ),nВячеслав Полтавцевn(заместитель генерального директора, руководитель блока по взаимодействию с органами власти, социальной и корпоративной политикиnГМК «Норильский никель»n),nЛеонид Исаковичn(генеральный директор ООО «УК «Спортивные проекты»),nОльга Плешаковаn(генеральный директорn«Трансаэро»n),nАлександр Провоторовn, (генеральный директорnОАО «Ростелеком»n), Андрей Лопатов (экс-игрок ЦСКА, чемпион мира, трехкратный чемпион Европы по баскетболу, председатель правленияnбанка «Клиентский»n),nАндрей Ватутинn(президент ПБК ЦСКА).'"
      ]
     },
     "execution_count": 3,
     "metadata": {},
     "output_type": "execute_result"
    }
   ],
   "source": [
    "news.iloc[0]['title']"
   ]
  },
  {
   "cell_type": "code",
   "execution_count": 4,
   "id": "e6dad0ef",
   "metadata": {},
   "outputs": [
    {
     "data": {
      "text/html": [
       "<div>\n",
       "<style scoped>\n",
       "    .dataframe tbody tr th:only-of-type {\n",
       "        vertical-align: middle;\n",
       "    }\n",
       "\n",
       "    .dataframe tbody tr th {\n",
       "        vertical-align: top;\n",
       "    }\n",
       "\n",
       "    .dataframe thead th {\n",
       "        text-align: right;\n",
       "    }\n",
       "</style>\n",
       "<table border=\"1\" class=\"dataframe\">\n",
       "  <thead>\n",
       "    <tr style=\"text-align: right;\">\n",
       "      <th></th>\n",
       "      <th>uid</th>\n",
       "      <th>articles</th>\n",
       "    </tr>\n",
       "  </thead>\n",
       "  <tbody>\n",
       "    <tr>\n",
       "      <th>0</th>\n",
       "      <td>u105138</td>\n",
       "      <td>[293672, 293328, 293001, 293622, 293126, 1852]</td>\n",
       "    </tr>\n",
       "    <tr>\n",
       "      <th>1</th>\n",
       "      <td>u108690</td>\n",
       "      <td>[3405, 1739, 2972, 1158, 1599, 322665]</td>\n",
       "    </tr>\n",
       "    <tr>\n",
       "      <th>2</th>\n",
       "      <td>u108339</td>\n",
       "      <td>[1845, 2009, 2356, 1424, 2939, 323389]</td>\n",
       "    </tr>\n",
       "  </tbody>\n",
       "</table>\n",
       "</div>"
      ],
      "text/plain": [
       "       uid                                        articles\n",
       "0  u105138  [293672, 293328, 293001, 293622, 293126, 1852]\n",
       "1  u108690          [3405, 1739, 2972, 1158, 1599, 322665]\n",
       "2  u108339          [1845, 2009, 2356, 1424, 2939, 323389]"
      ]
     },
     "execution_count": 4,
     "metadata": {},
     "output_type": "execute_result"
    }
   ],
   "source": [
    "users = pd.read_csv('D:/task/users_articles.csv')\n",
    "users.head(3)"
   ]
  },
  {
   "cell_type": "markdown",
   "id": "e2047801",
   "metadata": {},
   "source": [
    " #### Получаем векторные представления новостей"
   ]
  },
  {
   "cell_type": "code",
   "execution_count": 5,
   "id": "85906803",
   "metadata": {},
   "outputs": [],
   "source": [
    "#!pip install razdel pymorphy2"
   ]
  },
  {
   "cell_type": "code",
   "execution_count": 6,
   "id": "e14d7732",
   "metadata": {},
   "outputs": [],
   "source": [
    "# предобработка текстов\n",
    "import re\n",
    "import numpy as np\n",
    "from gensim.corpora.dictionary import Dictionary\n",
    "from razdel import tokenize  # сегментация русскоязычного текста на токены и предложения https://github.com/natasha/razdel\n",
    "import pymorphy2  # Морфологический анализатор"
   ]
  },
  {
   "cell_type": "code",
   "execution_count": 7,
   "id": "3d2f8d7e",
   "metadata": {},
   "outputs": [
    {
     "name": "stderr",
     "output_type": "stream",
     "text": [
      "[nltk_data] Downloading package stopwords to\n",
      "[nltk_data]     C:\\Users\\Pochkarenok\\AppData\\Roaming\\nltk_data...\n",
      "[nltk_data]   Package stopwords is already up-to-date!\n"
     ]
    },
    {
     "data": {
      "text/plain": [
       "True"
      ]
     },
     "execution_count": 7,
     "metadata": {},
     "output_type": "execute_result"
    }
   ],
   "source": [
    "import nltk\n",
    "from nltk.corpus import stopwords\n",
    "nltk.download('stopwords')"
   ]
  },
  {
   "cell_type": "code",
   "execution_count": 8,
   "id": "07174c23",
   "metadata": {},
   "outputs": [
    {
     "name": "stdout",
     "output_type": "stream",
     "text": [
      "151\n"
     ]
    }
   ],
   "source": [
    "stopword_ru = stopwords.words('russian')\n",
    "print(len(stopword_ru))"
   ]
  },
  {
   "cell_type": "code",
   "execution_count": 9,
   "id": "2f685b41",
   "metadata": {},
   "outputs": [
    {
     "data": {
      "text/plain": [
       "['и', 'в', 'во', 'не', 'что', 'он', 'на', 'я', 'с', 'со', 'как', 'а']"
      ]
     },
     "execution_count": 9,
     "metadata": {},
     "output_type": "execute_result"
    }
   ],
   "source": [
    "stopword_ru[:12]"
   ]
  },
  {
   "cell_type": "code",
   "execution_count": 10,
   "id": "d2da8d52",
   "metadata": {},
   "outputs": [
    {
     "data": {
      "text/html": [
       "<div>\n",
       "<style scoped>\n",
       "    .dataframe tbody tr th:only-of-type {\n",
       "        vertical-align: middle;\n",
       "    }\n",
       "\n",
       "    .dataframe tbody tr th {\n",
       "        vertical-align: top;\n",
       "    }\n",
       "\n",
       "    .dataframe thead th {\n",
       "        text-align: right;\n",
       "    }\n",
       "</style>\n",
       "<table border=\"1\" class=\"dataframe\">\n",
       "  <thead>\n",
       "    <tr style=\"text-align: right;\">\n",
       "      <th></th>\n",
       "      <th>год</th>\n",
       "    </tr>\n",
       "  </thead>\n",
       "  <tbody>\n",
       "    <tr>\n",
       "      <th>0</th>\n",
       "      <td>и</td>\n",
       "    </tr>\n",
       "    <tr>\n",
       "      <th>1</th>\n",
       "      <td>в</td>\n",
       "    </tr>\n",
       "    <tr>\n",
       "      <th>2</th>\n",
       "      <td>во</td>\n",
       "    </tr>\n",
       "    <tr>\n",
       "      <th>3</th>\n",
       "      <td>не</td>\n",
       "    </tr>\n",
       "    <tr>\n",
       "      <th>4</th>\n",
       "      <td>что</td>\n",
       "    </tr>\n",
       "    <tr>\n",
       "      <th>...</th>\n",
       "      <td>...</td>\n",
       "    </tr>\n",
       "    <tr>\n",
       "      <th>295</th>\n",
       "      <td>their</td>\n",
       "    </tr>\n",
       "    <tr>\n",
       "      <th>296</th>\n",
       "      <td>theirs</td>\n",
       "    </tr>\n",
       "    <tr>\n",
       "      <th>297</th>\n",
       "      <td>themselves</td>\n",
       "    </tr>\n",
       "    <tr>\n",
       "      <th>298</th>\n",
       "      <td>what</td>\n",
       "    </tr>\n",
       "    <tr>\n",
       "      <th>299</th>\n",
       "      <td>which</td>\n",
       "    </tr>\n",
       "  </tbody>\n",
       "</table>\n",
       "<p>300 rows × 1 columns</p>\n",
       "</div>"
      ],
      "text/plain": [
       "            год\n",
       "0             и\n",
       "1             в\n",
       "2            во\n",
       "3            не\n",
       "4           что\n",
       "..          ...\n",
       "295       their\n",
       "296      theirs\n",
       "297  themselves\n",
       "298        what\n",
       "299       which\n",
       "\n",
       "[300 rows x 1 columns]"
      ]
     },
     "execution_count": 10,
     "metadata": {},
     "output_type": "execute_result"
    }
   ],
   "source": [
    "stopword_all = pd.read_csv('D:/task/stopwords.csv')\n",
    "stopword_all.head(300)"
   ]
  },
  {
   "cell_type": "code",
   "execution_count": 11,
   "id": "ce990477",
   "metadata": {},
   "outputs": [
    {
     "name": "stdout",
     "output_type": "stream",
     "text": [
      "624\n"
     ]
    }
   ],
   "source": [
    "print(len(stopword_all))\n"
   ]
  },
  {
   "cell_type": "code",
   "execution_count": 12,
   "id": "fcfc725c",
   "metadata": {},
   "outputs": [
    {
     "data": {
      "text/plain": [
       "776"
      ]
     },
     "execution_count": 12,
     "metadata": {},
     "output_type": "execute_result"
    }
   ],
   "source": [
    "with open(\"D:/task/stopwords.csv\") as f:\n",
    "    additional_stopwords = [w.strip() for w in f.readlines() if w]\n",
    "    \n",
    "stopword_ru += additional_stopwords\n",
    "len(stopword_ru)"
   ]
  },
  {
   "cell_type": "code",
   "execution_count": 13,
   "id": "2183a7b8",
   "metadata": {},
   "outputs": [],
   "source": [
    "def clean_text(text):\n",
    "    '''\n",
    "    очистка текста\n",
    "    \n",
    "    на выходе очищеный текст\n",
    "    '''\n",
    "    if not isinstance(text, str):\n",
    "        text = str(text)\n",
    "    \n",
    "    text = text.lower()\n",
    "    text = text.strip('\\n').strip('\\r').strip('\\t')\n",
    "    text = re.sub(\"-\\s\\r\\n\\|-\\s\\r\\n|\\r\\n\", '', str(text))\n",
    "\n",
    "    text = re.sub(\"[0-9]|[-—.,:;_%©«»?*!@#№$^•·&()]|[+=]|[[]|[]]|[/]|\", '', text)\n",
    "    text = re.sub(r\"\\r\\n\\t|\\n|\\\\s|\\r\\t|\\\\n\", ' ', text)\n",
    "    text = re.sub(r'[\\xad]|[\\s+]', ' ', text.strip())\n",
    "    text = re.sub('n', ' ', text)\n",
    "    \n",
    "    return text\n",
    "\n",
    "cache = {}\n",
    "morph = pymorphy2.MorphAnalyzer()\n",
    "\n",
    "def lemmatization(text):    \n",
    "    '''\n",
    "    лемматизация\n",
    "        [0] если зашел тип не `str` делаем его `str`\n",
    "        [1] токенизация предложения через razdel\n",
    "        [2] проверка есть ли в начале слова '-'\n",
    "        [3] проверка токена с одного символа\n",
    "        [4] проверка есть ли данное слово в кэше\n",
    "        [5] лемматизация слова\n",
    "        [6] проверка на стоп-слова\n",
    "\n",
    "    на выходе лист лемматизированых токенов\n",
    "    '''\n",
    "\n",
    "    # [0]\n",
    "    if not isinstance(text, str):\n",
    "        text = str(text)\n",
    "    \n",
    "    # [1]\n",
    "    tokens = list(tokenize(text))\n",
    "    words = [_.text for _ in tokens]\n",
    "\n",
    "    words_lem = []\n",
    "    for w in words:\n",
    "        if w[0] == '-': # [2]\n",
    "            w = w[1:]\n",
    "        if len(w) > 1: # [3]\n",
    "            if w in cache: # [4]\n",
    "                words_lem.append(cache[w])\n",
    "            else: # [5]\n",
    "                temp_cach = cache[w] = morph.parse(w)[0].normal_form\n",
    "                words_lem.append(temp_cach)\n",
    "    \n",
    "    words_lem_without_stopwords = [i for i in words_lem if not i in stopword_ru] # [6]\n",
    "    \n",
    "    return words_lem_without_stopwords"
   ]
  },
  {
   "cell_type": "code",
   "execution_count": 14,
   "id": "172dd38d",
   "metadata": {},
   "outputs": [
    {
     "data": {
      "text/plain": [
       "'сбегать'"
      ]
     },
     "execution_count": 14,
     "metadata": {},
     "output_type": "execute_result"
    }
   ],
   "source": [
    "morph = pymorphy2.MorphAnalyzer()\n",
    "morph.parse('сбегали')[0].normal_form"
   ]
  },
  {
   "cell_type": "code",
   "execution_count": 15,
   "id": "b6db0b48",
   "metadata": {},
   "outputs": [
    {
     "data": {
      "text/plain": [
       "[Parse(word='стали', tag=OpencorporaTag('VERB,perf,intr plur,past,indc'), normal_form='стать', score=0.975342, methods_stack=((DictionaryAnalyzer(), 'стали', 945, 4),)),\n",
       " Parse(word='стали', tag=OpencorporaTag('NOUN,inan,femn sing,gent'), normal_form='сталь', score=0.010958, methods_stack=((DictionaryAnalyzer(), 'стали', 13, 1),)),\n",
       " Parse(word='стали', tag=OpencorporaTag('NOUN,inan,femn plur,nomn'), normal_form='сталь', score=0.005479, methods_stack=((DictionaryAnalyzer(), 'стали', 13, 6),)),\n",
       " Parse(word='стали', tag=OpencorporaTag('NOUN,inan,femn sing,datv'), normal_form='сталь', score=0.002739, methods_stack=((DictionaryAnalyzer(), 'стали', 13, 2),)),\n",
       " Parse(word='стали', tag=OpencorporaTag('NOUN,inan,femn sing,loct'), normal_form='сталь', score=0.002739, methods_stack=((DictionaryAnalyzer(), 'стали', 13, 5),)),\n",
       " Parse(word='стали', tag=OpencorporaTag('NOUN,inan,femn plur,accs'), normal_form='сталь', score=0.002739, methods_stack=((DictionaryAnalyzer(), 'стали', 13, 9),))]"
      ]
     },
     "execution_count": 15,
     "metadata": {},
     "output_type": "execute_result"
    }
   ],
   "source": [
    "morph = pymorphy2.MorphAnalyzer()\n",
    "morph.parse('стали')"
   ]
  },
  {
   "cell_type": "code",
   "execution_count": 16,
   "id": "db8bf2de",
   "metadata": {},
   "outputs": [
    {
     "data": {
      "text/plain": [
       "0    Заместитель председателяnправительства РФnСерг...\n",
       "1    Матч 1/16 финала Кубка России по футболу был п...\n",
       "Name: title, dtype: object"
      ]
     },
     "execution_count": 16,
     "metadata": {},
     "output_type": "execute_result"
    }
   ],
   "source": [
    "news['title'].iloc[:2]"
   ]
  },
  {
   "cell_type": "code",
   "execution_count": 17,
   "id": "3a6b9c19",
   "metadata": {},
   "outputs": [
    {
     "name": "stderr",
     "output_type": "stream",
     "text": [
      "C:\\Users\\Pochkarenok\\AppData\\Local\\Temp\\ipykernel_14560\\4083466619.py:14: FutureWarning: Possible nested set at position 39\n",
      "  text = re.sub(\"[0-9]|[-—.,:;_%©«»?*!@#№$^•·&()]|[+=]|[[]|[]]|[/]|\", '', text)\n"
     ]
    },
    {
     "data": {
      "text/plain": [
       "0    заместитель председателя правительства рф серг...\n",
       "1    матч  финала кубка россии по футболу был приос...\n",
       "Name: title, dtype: object"
      ]
     },
     "execution_count": 17,
     "metadata": {},
     "output_type": "execute_result"
    }
   ],
   "source": [
    "news['title'].iloc[:2].apply(lambda x: clean_text(x))"
   ]
  },
  {
   "cell_type": "code",
   "execution_count": 18,
   "id": "cb703287",
   "metadata": {},
   "outputs": [
    {
     "name": "stderr",
     "output_type": "stream",
     "text": [
      "100%|██████████| 27000/27000 [00:11<00:00, 2315.57it/s]"
     ]
    },
    {
     "name": "stdout",
     "output_type": "stream",
     "text": [
      "Wall time: 11.7 s\n"
     ]
    },
    {
     "name": "stderr",
     "output_type": "stream",
     "text": [
      "\n"
     ]
    }
   ],
   "source": [
    "%%time\n",
    "from tqdm import tqdm\n",
    "tqdm.pandas()\n",
    "\n",
    "# Запускаем очистку текста. Будет долго...\n",
    "news['title'] = news['title'].progress_apply(lambda x: clean_text(x))"
   ]
  },
  {
   "cell_type": "code",
   "execution_count": 19,
   "id": "7cdd4266",
   "metadata": {},
   "outputs": [
    {
     "data": {
      "text/plain": [
       "0    заместитель председателя правительства рф серг...\n",
       "1    матч  финала кубка россии по футболу был приос...\n",
       "2    форвард авангарда томаш заборский прокомментир...\n",
       "3    главный тренер кубани юрий красножан прокоммен...\n",
       "4    решением попечительского совета владивостокско...\n",
       "5    ио главного тренера вячеслав буцаев прокоммент...\n",
       "6    запорожский металлург дома потерпел разгромное...\n",
       "7    сборная сша одержала победу над австрией со сч...\n",
       "8    бывший защитник сборной россии дарюс каспарайт...\n",
       "9    полузащитник цска зоран тошич после победы над...\n",
       "Name: title, dtype: object"
      ]
     },
     "execution_count": 19,
     "metadata": {},
     "output_type": "execute_result"
    }
   ],
   "source": [
    "news['title'].iloc[:10]"
   ]
  },
  {
   "cell_type": "code",
   "execution_count": 20,
   "id": "cffeee29",
   "metadata": {},
   "outputs": [
    {
     "data": {
      "text/plain": [
       "0    [заместитель, председатель, правительство, рф,...\n",
       "1    [матч, финал, кубок, россия, футбол, приостано...\n",
       "Name: title, dtype: object"
      ]
     },
     "execution_count": 20,
     "metadata": {},
     "output_type": "execute_result"
    }
   ],
   "source": [
    "news['title'].iloc[:2].apply(lambda x: lemmatization(x))"
   ]
  },
  {
   "cell_type": "code",
   "execution_count": 21,
   "id": "df185791",
   "metadata": {},
   "outputs": [
    {
     "name": "stderr",
     "output_type": "stream",
     "text": [
      "100%|██████████| 27000/27000 [01:37<00:00, 278.31it/s] "
     ]
    },
    {
     "name": "stdout",
     "output_type": "stream",
     "text": [
      "Wall time: 1min 37s\n"
     ]
    },
    {
     "name": "stderr",
     "output_type": "stream",
     "text": [
      "\n"
     ]
    }
   ],
   "source": [
    "%%time\n",
    "# Запускаем лемматизацию текста. Будет очень долго...\n",
    "news['title'] = news['title'].progress_apply(lambda x: lemmatization(x))"
   ]
  },
  {
   "cell_type": "code",
   "execution_count": 22,
   "id": "e022d13d",
   "metadata": {},
   "outputs": [],
   "source": [
    "# сформируем список наших текстов\n",
    "texts = list(news['title'].values)\n",
    "\n",
    "# Создадим корпус из списка с текстами\n",
    "common_dictionary = Dictionary(texts)\n",
    "common_corpus = [common_dictionary.doc2bow(text) for text in texts]"
   ]
  },
  {
   "cell_type": "code",
   "execution_count": 23,
   "id": "c84792ee",
   "metadata": {},
   "outputs": [
    {
     "data": {
      "text/plain": [
       "135895"
      ]
     },
     "execution_count": 23,
     "metadata": {},
     "output_type": "execute_result"
    }
   ],
   "source": [
    "len(common_dictionary)"
   ]
  },
  {
   "cell_type": "markdown",
   "id": "db49e1e8",
   "metadata": {},
   "source": [
    "#### Запускаем обучение"
   ]
  },
  {
   "cell_type": "code",
   "execution_count": 24,
   "id": "ac57e2f9",
   "metadata": {},
   "outputs": [],
   "source": [
    "N_topic = 20"
   ]
  },
  {
   "cell_type": "code",
   "execution_count": 25,
   "id": "22d6f9e4",
   "metadata": {},
   "outputs": [
    {
     "name": "stdout",
     "output_type": "stream",
     "text": [
      "Wall time: 1min 18s\n"
     ]
    }
   ],
   "source": [
    "%%time\n",
    "from gensim.models import LdaModel\n",
    "\n",
    "# Обучаем модель на корпусе\n",
    "lda = LdaModel(common_corpus, num_topics=N_topic, id2word=common_dictionary, passes=6)"
   ]
  },
  {
   "cell_type": "code",
   "execution_count": 26,
   "id": "3e94e644",
   "metadata": {},
   "outputs": [],
   "source": [
    "from gensim.test.utils import datapath\n",
    "\n",
    "# Сохраняем модель на диск\n",
    "temp_file = datapath(\"model.lda\")\n",
    "lda.save(temp_file)"
   ]
  },
  {
   "cell_type": "code",
   "execution_count": 27,
   "id": "cca6b8db",
   "metadata": {},
   "outputs": [],
   "source": [
    "# Загружаем обученную модель с диска\n",
    "lda = LdaModel.load(temp_file)"
   ]
  },
  {
   "cell_type": "code",
   "execution_count": 28,
   "id": "d7b2c099",
   "metadata": {},
   "outputs": [
    {
     "name": "stdout",
     "output_type": "stream",
     "text": [
      "['форвард', 'авангард', 'томаш', 'заборский', 'прокомментировать', 'игра', 'свой', 'команда', 'матч', 'чемпионат', 'кхл', 'против', 'атланта', 'провести', 'плохой', 'матч', 'нижний', 'новгород', 'против', 'торпедо', 'настраиваться', 'первый', 'минута', 'включиться', 'работа', 'сказать', 'заборский', 'получиться', 'забросить', 'быстрый', 'гол', 'задать', 'хороший', 'темп', 'поединок', 'мочь', 'играть', 'ещё', 'хороший', 'сторона', 'пять', 'очко', 'выезд', 'девять', 'это', 'хороший']\n"
     ]
    },
    {
     "data": {
      "text/plain": [
       "[(3, 0.035817105),\n",
       " (4, 0.10910046),\n",
       " (5, 0.05549224),\n",
       " (13, 0.54859483),\n",
       " (19, 0.23429386)]"
      ]
     },
     "execution_count": 28,
     "metadata": {},
     "output_type": "execute_result"
    }
   ],
   "source": [
    "# Создаем новый корпус документов, которые раньше не видели\n",
    "other_texts = list(news['title'].iloc[:3])\n",
    "other_corpus = [common_dictionary.doc2bow(text) for text in other_texts]\n",
    "\n",
    "unseen_doc = other_corpus[2]\n",
    "print(other_texts[2])\n",
    "lda[unseen_doc] "
   ]
  },
  {
   "cell_type": "code",
   "execution_count": 29,
   "id": "7479cf6c",
   "metadata": {},
   "outputs": [
    {
     "name": "stdout",
     "output_type": "stream",
     "text": [
      "topic_0: область сообщать сообщить москва сотрудник полиция сообщение задержать новость убийство\n",
      "topic_1: операция штат дональд соцсеть альянс тепло президент куба коллекция визит\n",
      "topic_2: британский the солнце мальчик лондон мышь австралия италия британец выдавать\n",
      "topic_3: человек это который ребёнок свой гражданин помощь всё слово семья\n",
      "topic_4: военный армия сила район взрыв боевой оборона город турецкий действие\n",
      "topic_5: место рейтинг зуб небо рт сон хороший золото диск приоритетный\n",
      "topic_6: проект это новый система развитие россия работа должный программа который\n",
      "topic_7: дело который суд год санкция решение закон документ погибнуть право\n",
      "topic_8: год город стать который москва также день первый русский пройти\n",
      "topic_9: банк ставка население космос топливо блок норма напомнить ниже иск\n",
      "topic_10: россия российский украина президент это заявить страна украинский путин глава\n",
      "topic_11: исследование женщина мужчина врач пациент болезнь лечение проверка препарат выяснить\n",
      "topic_12: который год это мочь научный земля исследование газ эксперт фонд\n",
      "topic_13: температура восток рейс инвестиция команда писать активность игра градус первый\n",
      "topic_14: сопровождать инвестировать нация us вечеринка сенат плоский фанни сдаваться григорьев\n",
      "topic_15: сша американский страна китай свой экономика это северный великобритания который\n",
      "topic_16: ракета произойти время вода находиться станция результат пострадать экипаж причина\n",
      "topic_17: год компания рубль млн млрд это рост рынок тыс цена\n",
      "topic_18: журнал смерть статья эксперимент рак остров высота организм японский день\n",
      "topic_19: это всё который мочь весь человек время очень свой день\n"
     ]
    }
   ],
   "source": [
    "x = lda.show_topics(num_topics=N_topic, num_words=10, formatted=False)\n",
    "topics_words = [(tp[0], [wd[0] for wd in tp[1]]) for tp in x]\n",
    "\n",
    "# Печатаем только слова\n",
    "for topic, words in topics_words:\n",
    "    print(f\"topic_{topic}: \" + \" \".join(words))"
   ]
  },
  {
   "cell_type": "markdown",
   "id": "c450632d",
   "metadata": {},
   "source": [
    " #### Функция, которая будет нам возвращать векторное представление новости"
   ]
  },
  {
   "cell_type": "code",
   "execution_count": 30,
   "id": "fd46505d",
   "metadata": {},
   "outputs": [],
   "source": [
    "def get_lda_vector(lda, text):\n",
    "    unseen_doc = common_dictionary.doc2bow(text)\n",
    "    lda_tuple = lda[unseen_doc]\n",
    "\n",
    "    not_null_topics = dict(zip([i[0] for i in lda_tuple], [i[1] for i in lda_tuple]))\n",
    "\n",
    "    output_vector = []\n",
    "    for i in range(N_topic):\n",
    "        if i not in not_null_topics:\n",
    "            output_vector.append(0)\n",
    "        else:\n",
    "            output_vector.append(not_null_topics[i])\n",
    "    return np.array(output_vector)"
   ]
  },
  {
   "cell_type": "code",
   "execution_count": 31,
   "id": "3445d0ee",
   "metadata": {},
   "outputs": [
    {
     "data": {
      "text/plain": [
       "array([0.        , 0.        , 0.        , 0.        , 0.        ,\n",
       "       0.        , 0.21768177, 0.53347689, 0.01872961, 0.0683361 ,\n",
       "       0.        , 0.        , 0.        , 0.15462659, 0.        ,\n",
       "       0.        , 0.        , 0.        , 0.        , 0.        ])"
      ]
     },
     "execution_count": 31,
     "metadata": {},
     "output_type": "execute_result"
    }
   ],
   "source": [
    "get_lda_vector(lda, news['title'].iloc[0])"
   ]
  },
  {
   "cell_type": "code",
   "execution_count": 32,
   "id": "189164c6",
   "metadata": {},
   "outputs": [
    {
     "name": "stdout",
     "output_type": "stream",
     "text": [
      "Wall time: 9.53 s\n"
     ]
    },
    {
     "data": {
      "text/html": [
       "<div>\n",
       "<style scoped>\n",
       "    .dataframe tbody tr th:only-of-type {\n",
       "        vertical-align: middle;\n",
       "    }\n",
       "\n",
       "    .dataframe tbody tr th {\n",
       "        vertical-align: top;\n",
       "    }\n",
       "\n",
       "    .dataframe thead th {\n",
       "        text-align: right;\n",
       "    }\n",
       "</style>\n",
       "<table border=\"1\" class=\"dataframe\">\n",
       "  <thead>\n",
       "    <tr style=\"text-align: right;\">\n",
       "      <th></th>\n",
       "      <th>doc_id</th>\n",
       "      <th>topic_0</th>\n",
       "      <th>topic_1</th>\n",
       "      <th>topic_2</th>\n",
       "      <th>topic_3</th>\n",
       "      <th>topic_4</th>\n",
       "      <th>topic_5</th>\n",
       "      <th>topic_6</th>\n",
       "      <th>topic_7</th>\n",
       "      <th>topic_8</th>\n",
       "      <th>...</th>\n",
       "      <th>topic_10</th>\n",
       "      <th>topic_11</th>\n",
       "      <th>topic_12</th>\n",
       "      <th>topic_13</th>\n",
       "      <th>topic_14</th>\n",
       "      <th>topic_15</th>\n",
       "      <th>topic_16</th>\n",
       "      <th>topic_17</th>\n",
       "      <th>topic_18</th>\n",
       "      <th>topic_19</th>\n",
       "    </tr>\n",
       "  </thead>\n",
       "  <tbody>\n",
       "    <tr>\n",
       "      <th>0</th>\n",
       "      <td>6</td>\n",
       "      <td>0.000000</td>\n",
       "      <td>0.0</td>\n",
       "      <td>0.0</td>\n",
       "      <td>0.000000</td>\n",
       "      <td>0.000000</td>\n",
       "      <td>0.000000</td>\n",
       "      <td>0.217704</td>\n",
       "      <td>0.533447</td>\n",
       "      <td>0.018739</td>\n",
       "      <td>...</td>\n",
       "      <td>0.000000</td>\n",
       "      <td>0.0</td>\n",
       "      <td>0.000000</td>\n",
       "      <td>0.154622</td>\n",
       "      <td>0.0</td>\n",
       "      <td>0.0</td>\n",
       "      <td>0.0</td>\n",
       "      <td>0.000000</td>\n",
       "      <td>0.0</td>\n",
       "      <td>0.000000</td>\n",
       "    </tr>\n",
       "    <tr>\n",
       "      <th>1</th>\n",
       "      <td>4896</td>\n",
       "      <td>0.075397</td>\n",
       "      <td>0.0</td>\n",
       "      <td>0.0</td>\n",
       "      <td>0.000000</td>\n",
       "      <td>0.358980</td>\n",
       "      <td>0.000000</td>\n",
       "      <td>0.000000</td>\n",
       "      <td>0.093973</td>\n",
       "      <td>0.000000</td>\n",
       "      <td>...</td>\n",
       "      <td>0.000000</td>\n",
       "      <td>0.0</td>\n",
       "      <td>0.000000</td>\n",
       "      <td>0.451641</td>\n",
       "      <td>0.0</td>\n",
       "      <td>0.0</td>\n",
       "      <td>0.0</td>\n",
       "      <td>0.000000</td>\n",
       "      <td>0.0</td>\n",
       "      <td>0.000000</td>\n",
       "    </tr>\n",
       "    <tr>\n",
       "      <th>2</th>\n",
       "      <td>4897</td>\n",
       "      <td>0.000000</td>\n",
       "      <td>0.0</td>\n",
       "      <td>0.0</td>\n",
       "      <td>0.035814</td>\n",
       "      <td>0.109105</td>\n",
       "      <td>0.055495</td>\n",
       "      <td>0.000000</td>\n",
       "      <td>0.000000</td>\n",
       "      <td>0.000000</td>\n",
       "      <td>...</td>\n",
       "      <td>0.000000</td>\n",
       "      <td>0.0</td>\n",
       "      <td>0.000000</td>\n",
       "      <td>0.548587</td>\n",
       "      <td>0.0</td>\n",
       "      <td>0.0</td>\n",
       "      <td>0.0</td>\n",
       "      <td>0.000000</td>\n",
       "      <td>0.0</td>\n",
       "      <td>0.234298</td>\n",
       "    </tr>\n",
       "    <tr>\n",
       "      <th>3</th>\n",
       "      <td>4898</td>\n",
       "      <td>0.000000</td>\n",
       "      <td>0.0</td>\n",
       "      <td>0.0</td>\n",
       "      <td>0.000000</td>\n",
       "      <td>0.000000</td>\n",
       "      <td>0.000000</td>\n",
       "      <td>0.059805</td>\n",
       "      <td>0.000000</td>\n",
       "      <td>0.000000</td>\n",
       "      <td>...</td>\n",
       "      <td>0.050587</td>\n",
       "      <td>0.0</td>\n",
       "      <td>0.075916</td>\n",
       "      <td>0.356532</td>\n",
       "      <td>0.0</td>\n",
       "      <td>0.0</td>\n",
       "      <td>0.0</td>\n",
       "      <td>0.029024</td>\n",
       "      <td>0.0</td>\n",
       "      <td>0.419479</td>\n",
       "    </tr>\n",
       "    <tr>\n",
       "      <th>4</th>\n",
       "      <td>4899</td>\n",
       "      <td>0.043674</td>\n",
       "      <td>0.0</td>\n",
       "      <td>0.0</td>\n",
       "      <td>0.000000</td>\n",
       "      <td>0.000000</td>\n",
       "      <td>0.000000</td>\n",
       "      <td>0.305744</td>\n",
       "      <td>0.251365</td>\n",
       "      <td>0.000000</td>\n",
       "      <td>...</td>\n",
       "      <td>0.000000</td>\n",
       "      <td>0.0</td>\n",
       "      <td>0.000000</td>\n",
       "      <td>0.180557</td>\n",
       "      <td>0.0</td>\n",
       "      <td>0.0</td>\n",
       "      <td>0.0</td>\n",
       "      <td>0.197735</td>\n",
       "      <td>0.0</td>\n",
       "      <td>0.000000</td>\n",
       "    </tr>\n",
       "  </tbody>\n",
       "</table>\n",
       "<p>5 rows × 21 columns</p>\n",
       "</div>"
      ],
      "text/plain": [
       "   doc_id   topic_0  topic_1  topic_2   topic_3   topic_4   topic_5   topic_6  \\\n",
       "0       6  0.000000      0.0      0.0  0.000000  0.000000  0.000000  0.217704   \n",
       "1    4896  0.075397      0.0      0.0  0.000000  0.358980  0.000000  0.000000   \n",
       "2    4897  0.000000      0.0      0.0  0.035814  0.109105  0.055495  0.000000   \n",
       "3    4898  0.000000      0.0      0.0  0.000000  0.000000  0.000000  0.059805   \n",
       "4    4899  0.043674      0.0      0.0  0.000000  0.000000  0.000000  0.305744   \n",
       "\n",
       "    topic_7   topic_8  ...  topic_10  topic_11  topic_12  topic_13  topic_14  \\\n",
       "0  0.533447  0.018739  ...  0.000000       0.0  0.000000  0.154622       0.0   \n",
       "1  0.093973  0.000000  ...  0.000000       0.0  0.000000  0.451641       0.0   \n",
       "2  0.000000  0.000000  ...  0.000000       0.0  0.000000  0.548587       0.0   \n",
       "3  0.000000  0.000000  ...  0.050587       0.0  0.075916  0.356532       0.0   \n",
       "4  0.251365  0.000000  ...  0.000000       0.0  0.000000  0.180557       0.0   \n",
       "\n",
       "   topic_15  topic_16  topic_17  topic_18  topic_19  \n",
       "0       0.0       0.0  0.000000       0.0  0.000000  \n",
       "1       0.0       0.0  0.000000       0.0  0.000000  \n",
       "2       0.0       0.0  0.000000       0.0  0.234298  \n",
       "3       0.0       0.0  0.029024       0.0  0.419479  \n",
       "4       0.0       0.0  0.197735       0.0  0.000000  \n",
       "\n",
       "[5 rows x 21 columns]"
      ]
     },
     "execution_count": 32,
     "metadata": {},
     "output_type": "execute_result"
    }
   ],
   "source": [
    "%%time\n",
    "topic_matrix = pd.DataFrame([get_lda_vector(lda, text) for text in news['title'].values])\n",
    "topic_matrix.columns = [f'topic_{i}' for i in range(N_topic)]\n",
    "topic_matrix['doc_id'] = news['doc_id'].values\n",
    "topic_matrix = topic_matrix[['doc_id']+[f'topic_{i}' for i in range(N_topic)]]\n",
    "topic_matrix.head(5)"
   ]
  },
  {
   "cell_type": "markdown",
   "id": "eacc0dbe",
   "metadata": {},
   "source": [
    "#### Векторные представления пользователей"
   ]
  },
  {
   "cell_type": "code",
   "execution_count": 33,
   "id": "aad9d836",
   "metadata": {},
   "outputs": [
    {
     "data": {
      "text/html": [
       "<div>\n",
       "<style scoped>\n",
       "    .dataframe tbody tr th:only-of-type {\n",
       "        vertical-align: middle;\n",
       "    }\n",
       "\n",
       "    .dataframe tbody tr th {\n",
       "        vertical-align: top;\n",
       "    }\n",
       "\n",
       "    .dataframe thead th {\n",
       "        text-align: right;\n",
       "    }\n",
       "</style>\n",
       "<table border=\"1\" class=\"dataframe\">\n",
       "  <thead>\n",
       "    <tr style=\"text-align: right;\">\n",
       "      <th></th>\n",
       "      <th>uid</th>\n",
       "      <th>articles</th>\n",
       "    </tr>\n",
       "  </thead>\n",
       "  <tbody>\n",
       "    <tr>\n",
       "      <th>0</th>\n",
       "      <td>u105138</td>\n",
       "      <td>[293672, 293328, 293001, 293622, 293126, 1852]</td>\n",
       "    </tr>\n",
       "    <tr>\n",
       "      <th>1</th>\n",
       "      <td>u108690</td>\n",
       "      <td>[3405, 1739, 2972, 1158, 1599, 322665]</td>\n",
       "    </tr>\n",
       "    <tr>\n",
       "      <th>2</th>\n",
       "      <td>u108339</td>\n",
       "      <td>[1845, 2009, 2356, 1424, 2939, 323389]</td>\n",
       "    </tr>\n",
       "  </tbody>\n",
       "</table>\n",
       "</div>"
      ],
      "text/plain": [
       "       uid                                        articles\n",
       "0  u105138  [293672, 293328, 293001, 293622, 293126, 1852]\n",
       "1  u108690          [3405, 1739, 2972, 1158, 1599, 322665]\n",
       "2  u108339          [1845, 2009, 2356, 1424, 2939, 323389]"
      ]
     },
     "execution_count": 33,
     "metadata": {},
     "output_type": "execute_result"
    }
   ],
   "source": [
    "users.head(3)"
   ]
  },
  {
   "cell_type": "code",
   "execution_count": 34,
   "id": "1424832d",
   "metadata": {},
   "outputs": [],
   "source": [
    "doc_dict = dict(zip(topic_matrix['doc_id'].values, topic_matrix[[f'topic_{i}' for i in range(N_topic)]].values))"
   ]
  },
  {
   "cell_type": "code",
   "execution_count": 35,
   "id": "e0785865",
   "metadata": {},
   "outputs": [
    {
     "data": {
      "text/plain": [
       "array([0.14764291, 0.        , 0.        , 0.        , 0.        ,\n",
       "       0.        , 0.14091974, 0.        , 0.2835539 , 0.        ,\n",
       "       0.06181806, 0.        , 0.03549877, 0.06006153, 0.        ,\n",
       "       0.        , 0.        , 0.17548172, 0.02150174, 0.06129134])"
      ]
     },
     "execution_count": 35,
     "metadata": {},
     "output_type": "execute_result"
    }
   ],
   "source": [
    "doc_dict[293672]"
   ]
  },
  {
   "cell_type": "code",
   "execution_count": 66,
   "id": "7618a685",
   "metadata": {},
   "outputs": [],
   "source": [
    "def get_user_embedding(user_articles_list, doc_dict, func):\n",
    "    user_articles_list = eval(user_articles_list)\n",
    "    user_vector = np.array([doc_dict[doc_id] for doc_id in user_articles_list])\n",
    "    user_vector = func(user_vector, axis=0)\n",
    "    return user_vector\n"
   ]
  },
  {
   "cell_type": "code",
   "execution_count": 67,
   "id": "95848c17",
   "metadata": {},
   "outputs": [
    {
     "data": {
      "text/plain": [
       "array([0.07741776, 0.01849191, 0.        , 0.08787312, 0.03688675,\n",
       "       0.        , 0.09070673, 0.17381696, 0.0035309 , 0.01981763,\n",
       "       0.17319121, 0.01770649, 0.07121833, 0.00233426, 0.        ,\n",
       "       0.07095399, 0.00953021, 0.05340186, 0.        , 0.08410603])"
      ]
     },
     "execution_count": 67,
     "metadata": {},
     "output_type": "execute_result"
    }
   ],
   "source": [
    "user_articles_list = users['articles'].iloc[33]\n",
    "\n",
    "get_user_embedding(user_articles_list, doc_dict, np.mean)"
   ]
  },
  {
   "cell_type": "markdown",
   "id": "dc9743dc",
   "metadata": {},
   "source": [
    "#### Получим эмбединги для всех пользователей и проверим их качество на конкретной downstream-задаче"
   ]
  },
  {
   "cell_type": "code",
   "execution_count": 68,
   "id": "d434a13e",
   "metadata": {},
   "outputs": [],
   "source": [
    "func = np.mean"
   ]
  },
  {
   "cell_type": "code",
   "execution_count": 69,
   "id": "a72bee17",
   "metadata": {},
   "outputs": [
    {
     "name": "stdout",
     "output_type": "stream",
     "text": [
      "Wall time: 146 ms\n"
     ]
    },
    {
     "data": {
      "text/html": [
       "<div>\n",
       "<style scoped>\n",
       "    .dataframe tbody tr th:only-of-type {\n",
       "        vertical-align: middle;\n",
       "    }\n",
       "\n",
       "    .dataframe tbody tr th {\n",
       "        vertical-align: top;\n",
       "    }\n",
       "\n",
       "    .dataframe thead th {\n",
       "        text-align: right;\n",
       "    }\n",
       "</style>\n",
       "<table border=\"1\" class=\"dataframe\">\n",
       "  <thead>\n",
       "    <tr style=\"text-align: right;\">\n",
       "      <th></th>\n",
       "      <th>uid</th>\n",
       "      <th>topic_0</th>\n",
       "      <th>topic_1</th>\n",
       "      <th>topic_2</th>\n",
       "      <th>topic_3</th>\n",
       "      <th>topic_4</th>\n",
       "      <th>topic_5</th>\n",
       "      <th>topic_6</th>\n",
       "      <th>topic_7</th>\n",
       "      <th>topic_8</th>\n",
       "      <th>...</th>\n",
       "      <th>topic_10</th>\n",
       "      <th>topic_11</th>\n",
       "      <th>topic_12</th>\n",
       "      <th>topic_13</th>\n",
       "      <th>topic_14</th>\n",
       "      <th>topic_15</th>\n",
       "      <th>topic_16</th>\n",
       "      <th>topic_17</th>\n",
       "      <th>topic_18</th>\n",
       "      <th>topic_19</th>\n",
       "    </tr>\n",
       "  </thead>\n",
       "  <tbody>\n",
       "    <tr>\n",
       "      <th>0</th>\n",
       "      <td>u105138</td>\n",
       "      <td>0.119032</td>\n",
       "      <td>0.00000</td>\n",
       "      <td>0.002166</td>\n",
       "      <td>0.171623</td>\n",
       "      <td>0.043660</td>\n",
       "      <td>0.004521</td>\n",
       "      <td>0.023487</td>\n",
       "      <td>0.074723</td>\n",
       "      <td>0.131259</td>\n",
       "      <td>...</td>\n",
       "      <td>0.108497</td>\n",
       "      <td>0.012608</td>\n",
       "      <td>0.023091</td>\n",
       "      <td>0.054827</td>\n",
       "      <td>0.000000</td>\n",
       "      <td>0.051992</td>\n",
       "      <td>0.023606</td>\n",
       "      <td>0.047478</td>\n",
       "      <td>0.003584</td>\n",
       "      <td>0.076056</td>\n",
       "    </tr>\n",
       "    <tr>\n",
       "      <th>1</th>\n",
       "      <td>u108690</td>\n",
       "      <td>0.087747</td>\n",
       "      <td>0.01207</td>\n",
       "      <td>0.000000</td>\n",
       "      <td>0.125761</td>\n",
       "      <td>0.014296</td>\n",
       "      <td>0.000000</td>\n",
       "      <td>0.015115</td>\n",
       "      <td>0.095587</td>\n",
       "      <td>0.034944</td>\n",
       "      <td>...</td>\n",
       "      <td>0.216450</td>\n",
       "      <td>0.013059</td>\n",
       "      <td>0.095770</td>\n",
       "      <td>0.020278</td>\n",
       "      <td>0.000000</td>\n",
       "      <td>0.058000</td>\n",
       "      <td>0.025264</td>\n",
       "      <td>0.075016</td>\n",
       "      <td>0.000000</td>\n",
       "      <td>0.086170</td>\n",
       "    </tr>\n",
       "    <tr>\n",
       "      <th>2</th>\n",
       "      <td>u108339</td>\n",
       "      <td>0.132559</td>\n",
       "      <td>0.03574</td>\n",
       "      <td>0.000000</td>\n",
       "      <td>0.117298</td>\n",
       "      <td>0.040736</td>\n",
       "      <td>0.000000</td>\n",
       "      <td>0.011734</td>\n",
       "      <td>0.153750</td>\n",
       "      <td>0.088874</td>\n",
       "      <td>...</td>\n",
       "      <td>0.111047</td>\n",
       "      <td>0.012478</td>\n",
       "      <td>0.030629</td>\n",
       "      <td>0.013693</td>\n",
       "      <td>0.001959</td>\n",
       "      <td>0.037527</td>\n",
       "      <td>0.088675</td>\n",
       "      <td>0.047530</td>\n",
       "      <td>0.005133</td>\n",
       "      <td>0.044638</td>\n",
       "    </tr>\n",
       "  </tbody>\n",
       "</table>\n",
       "<p>3 rows × 21 columns</p>\n",
       "</div>"
      ],
      "text/plain": [
       "       uid   topic_0  topic_1   topic_2   topic_3   topic_4   topic_5  \\\n",
       "0  u105138  0.119032  0.00000  0.002166  0.171623  0.043660  0.004521   \n",
       "1  u108690  0.087747  0.01207  0.000000  0.125761  0.014296  0.000000   \n",
       "2  u108339  0.132559  0.03574  0.000000  0.117298  0.040736  0.000000   \n",
       "\n",
       "    topic_6   topic_7   topic_8  ...  topic_10  topic_11  topic_12  topic_13  \\\n",
       "0  0.023487  0.074723  0.131259  ...  0.108497  0.012608  0.023091  0.054827   \n",
       "1  0.015115  0.095587  0.034944  ...  0.216450  0.013059  0.095770  0.020278   \n",
       "2  0.011734  0.153750  0.088874  ...  0.111047  0.012478  0.030629  0.013693   \n",
       "\n",
       "   topic_14  topic_15  topic_16  topic_17  topic_18  topic_19  \n",
       "0  0.000000  0.051992  0.023606  0.047478  0.003584  0.076056  \n",
       "1  0.000000  0.058000  0.025264  0.075016  0.000000  0.086170  \n",
       "2  0.001959  0.037527  0.088675  0.047530  0.005133  0.044638  \n",
       "\n",
       "[3 rows x 21 columns]"
      ]
     },
     "execution_count": 69,
     "metadata": {},
     "output_type": "execute_result"
    }
   ],
   "source": [
    "%%time\n",
    "user_embeddings = pd.DataFrame([i for i in users['articles'].apply(lambda x: get_user_embedding(x, doc_dict, func))])\n",
    "user_embeddings.columns = [f'topic_{i}' for i in range(N_topic)]\n",
    "user_embeddings['uid'] = users['uid'].values\n",
    "user_embeddings = user_embeddings[['uid']+[f'topic_{i}' for i in range(N_topic)]]\n",
    "user_embeddings.head(3)"
   ]
  },
  {
   "cell_type": "markdown",
   "id": "579ee7b1",
   "metadata": {},
   "source": [
    "### Датасет готов - можно попробовать обучить модель. \n",
    "#### Загрузим нашу разметку"
   ]
  },
  {
   "cell_type": "code",
   "execution_count": 70,
   "id": "0b5af0b3",
   "metadata": {},
   "outputs": [
    {
     "data": {
      "text/html": [
       "<div>\n",
       "<style scoped>\n",
       "    .dataframe tbody tr th:only-of-type {\n",
       "        vertical-align: middle;\n",
       "    }\n",
       "\n",
       "    .dataframe tbody tr th {\n",
       "        vertical-align: top;\n",
       "    }\n",
       "\n",
       "    .dataframe thead th {\n",
       "        text-align: right;\n",
       "    }\n",
       "</style>\n",
       "<table border=\"1\" class=\"dataframe\">\n",
       "  <thead>\n",
       "    <tr style=\"text-align: right;\">\n",
       "      <th></th>\n",
       "      <th>uid</th>\n",
       "      <th>churn</th>\n",
       "    </tr>\n",
       "  </thead>\n",
       "  <tbody>\n",
       "    <tr>\n",
       "      <th>0</th>\n",
       "      <td>u107120</td>\n",
       "      <td>0</td>\n",
       "    </tr>\n",
       "    <tr>\n",
       "      <th>1</th>\n",
       "      <td>u102277</td>\n",
       "      <td>0</td>\n",
       "    </tr>\n",
       "    <tr>\n",
       "      <th>2</th>\n",
       "      <td>u102444</td>\n",
       "      <td>0</td>\n",
       "    </tr>\n",
       "  </tbody>\n",
       "</table>\n",
       "</div>"
      ],
      "text/plain": [
       "       uid  churn\n",
       "0  u107120      0\n",
       "1  u102277      0\n",
       "2  u102444      0"
      ]
     },
     "execution_count": 70,
     "metadata": {},
     "output_type": "execute_result"
    }
   ],
   "source": [
    "target = pd.read_csv('D:/task/users_churn.csv')\n",
    "target.head(3)\n"
   ]
  },
  {
   "cell_type": "code",
   "execution_count": 71,
   "id": "67f9ec5b",
   "metadata": {},
   "outputs": [
    {
     "data": {
      "text/html": [
       "<div>\n",
       "<style scoped>\n",
       "    .dataframe tbody tr th:only-of-type {\n",
       "        vertical-align: middle;\n",
       "    }\n",
       "\n",
       "    .dataframe tbody tr th {\n",
       "        vertical-align: top;\n",
       "    }\n",
       "\n",
       "    .dataframe thead th {\n",
       "        text-align: right;\n",
       "    }\n",
       "</style>\n",
       "<table border=\"1\" class=\"dataframe\">\n",
       "  <thead>\n",
       "    <tr style=\"text-align: right;\">\n",
       "      <th></th>\n",
       "      <th>uid</th>\n",
       "      <th>topic_0</th>\n",
       "      <th>topic_1</th>\n",
       "      <th>topic_2</th>\n",
       "      <th>topic_3</th>\n",
       "      <th>topic_4</th>\n",
       "      <th>topic_5</th>\n",
       "      <th>topic_6</th>\n",
       "      <th>topic_7</th>\n",
       "      <th>topic_8</th>\n",
       "      <th>...</th>\n",
       "      <th>topic_11</th>\n",
       "      <th>topic_12</th>\n",
       "      <th>topic_13</th>\n",
       "      <th>topic_14</th>\n",
       "      <th>topic_15</th>\n",
       "      <th>topic_16</th>\n",
       "      <th>topic_17</th>\n",
       "      <th>topic_18</th>\n",
       "      <th>topic_19</th>\n",
       "      <th>churn</th>\n",
       "    </tr>\n",
       "  </thead>\n",
       "  <tbody>\n",
       "    <tr>\n",
       "      <th>0</th>\n",
       "      <td>u105138</td>\n",
       "      <td>0.119032</td>\n",
       "      <td>0.00000</td>\n",
       "      <td>0.002166</td>\n",
       "      <td>0.171623</td>\n",
       "      <td>0.043660</td>\n",
       "      <td>0.004521</td>\n",
       "      <td>0.023487</td>\n",
       "      <td>0.074723</td>\n",
       "      <td>0.131259</td>\n",
       "      <td>...</td>\n",
       "      <td>0.012608</td>\n",
       "      <td>0.023091</td>\n",
       "      <td>0.054827</td>\n",
       "      <td>0.000000</td>\n",
       "      <td>0.051992</td>\n",
       "      <td>0.023606</td>\n",
       "      <td>0.047478</td>\n",
       "      <td>0.003584</td>\n",
       "      <td>0.076056</td>\n",
       "      <td>0</td>\n",
       "    </tr>\n",
       "    <tr>\n",
       "      <th>1</th>\n",
       "      <td>u108690</td>\n",
       "      <td>0.087747</td>\n",
       "      <td>0.01207</td>\n",
       "      <td>0.000000</td>\n",
       "      <td>0.125761</td>\n",
       "      <td>0.014296</td>\n",
       "      <td>0.000000</td>\n",
       "      <td>0.015115</td>\n",
       "      <td>0.095587</td>\n",
       "      <td>0.034944</td>\n",
       "      <td>...</td>\n",
       "      <td>0.013059</td>\n",
       "      <td>0.095770</td>\n",
       "      <td>0.020278</td>\n",
       "      <td>0.000000</td>\n",
       "      <td>0.058000</td>\n",
       "      <td>0.025264</td>\n",
       "      <td>0.075016</td>\n",
       "      <td>0.000000</td>\n",
       "      <td>0.086170</td>\n",
       "      <td>1</td>\n",
       "    </tr>\n",
       "    <tr>\n",
       "      <th>2</th>\n",
       "      <td>u108339</td>\n",
       "      <td>0.132559</td>\n",
       "      <td>0.03574</td>\n",
       "      <td>0.000000</td>\n",
       "      <td>0.117298</td>\n",
       "      <td>0.040736</td>\n",
       "      <td>0.000000</td>\n",
       "      <td>0.011734</td>\n",
       "      <td>0.153750</td>\n",
       "      <td>0.088874</td>\n",
       "      <td>...</td>\n",
       "      <td>0.012478</td>\n",
       "      <td>0.030629</td>\n",
       "      <td>0.013693</td>\n",
       "      <td>0.001959</td>\n",
       "      <td>0.037527</td>\n",
       "      <td>0.088675</td>\n",
       "      <td>0.047530</td>\n",
       "      <td>0.005133</td>\n",
       "      <td>0.044638</td>\n",
       "      <td>1</td>\n",
       "    </tr>\n",
       "  </tbody>\n",
       "</table>\n",
       "<p>3 rows × 22 columns</p>\n",
       "</div>"
      ],
      "text/plain": [
       "       uid   topic_0  topic_1   topic_2   topic_3   topic_4   topic_5  \\\n",
       "0  u105138  0.119032  0.00000  0.002166  0.171623  0.043660  0.004521   \n",
       "1  u108690  0.087747  0.01207  0.000000  0.125761  0.014296  0.000000   \n",
       "2  u108339  0.132559  0.03574  0.000000  0.117298  0.040736  0.000000   \n",
       "\n",
       "    topic_6   topic_7   topic_8  ...  topic_11  topic_12  topic_13  topic_14  \\\n",
       "0  0.023487  0.074723  0.131259  ...  0.012608  0.023091  0.054827  0.000000   \n",
       "1  0.015115  0.095587  0.034944  ...  0.013059  0.095770  0.020278  0.000000   \n",
       "2  0.011734  0.153750  0.088874  ...  0.012478  0.030629  0.013693  0.001959   \n",
       "\n",
       "   topic_15  topic_16  topic_17  topic_18  topic_19  churn  \n",
       "0  0.051992  0.023606  0.047478  0.003584  0.076056      0  \n",
       "1  0.058000  0.025264  0.075016  0.000000  0.086170      1  \n",
       "2  0.037527  0.088675  0.047530  0.005133  0.044638      1  \n",
       "\n",
       "[3 rows x 22 columns]"
      ]
     },
     "execution_count": 71,
     "metadata": {},
     "output_type": "execute_result"
    }
   ],
   "source": [
    "X = pd.merge(user_embeddings, target, 'left')\n",
    "X.head(3)"
   ]
  },
  {
   "cell_type": "code",
   "execution_count": 72,
   "id": "ea413f07",
   "metadata": {},
   "outputs": [],
   "source": [
    "from sklearn.linear_model import LogisticRegression\n",
    "from sklearn.model_selection import train_test_split\n",
    "\n",
    "import matplotlib.pyplot as plt"
   ]
  },
  {
   "cell_type": "code",
   "execution_count": 73,
   "id": "f2f853a0",
   "metadata": {},
   "outputs": [],
   "source": [
    "# разделим данные на train/test\n",
    "X_train, X_test, y_train, y_test = train_test_split(X[[f'topic_{i}' for i in range(N_topic)]], \n",
    "                                                    X['churn'], random_state=0)"
   ]
  },
  {
   "cell_type": "code",
   "execution_count": 74,
   "id": "b4e3baeb",
   "metadata": {},
   "outputs": [
    {
     "data": {
      "text/plain": [
       "LogisticRegression()"
      ]
     },
     "execution_count": 74,
     "metadata": {},
     "output_type": "execute_result"
    }
   ],
   "source": [
    "model = LogisticRegression()\n",
    "# обучим \n",
    "model.fit(X_train, y_train)"
   ]
  },
  {
   "cell_type": "code",
   "execution_count": 75,
   "id": "db0f07b5",
   "metadata": {},
   "outputs": [
    {
     "data": {
      "text/plain": [
       "array([0.11002244, 0.0837044 , 0.59093803, 0.16024214, 0.01611191,\n",
       "       0.04952824, 0.08352805, 0.00215197, 0.12060509, 0.03624523])"
      ]
     },
     "execution_count": 75,
     "metadata": {},
     "output_type": "execute_result"
    }
   ],
   "source": [
    "# наши прогнозы для тестовой выборки\n",
    "preds = model.predict_proba(X_test)[:, 1]\n",
    "preds[:10]"
   ]
  },
  {
   "cell_type": "markdown",
   "id": "1ace59ec",
   "metadata": {},
   "source": [
    "### Рассчитаем Precision, Recall, F_score, roc auc"
   ]
  },
  {
   "cell_type": "code",
   "execution_count": 76,
   "id": "429b9ed7",
   "metadata": {},
   "outputs": [],
   "source": [
    "from sklearn.metrics import (f1_score, roc_auc_score, precision_score,\n",
    "                             classification_report, precision_recall_curve, confusion_matrix)"
   ]
  },
  {
   "cell_type": "code",
   "execution_count": 77,
   "id": "85c4df83",
   "metadata": {},
   "outputs": [
    {
     "name": "stdout",
     "output_type": "stream",
     "text": [
      "Best Threshold=0.250949553786861, F-Score=0.766, Precision=0.690, Recall=0.861\n"
     ]
    }
   ],
   "source": [
    "precision, recall, thresholds = precision_recall_curve(y_test, preds)\n",
    "fscore = (2 * precision * recall) / (precision + recall)\n",
    "# locate the index of the largest f score\n",
    "ix = np.argmax(fscore)\n",
    "print(f'Best Threshold={thresholds[ix]}, F-Score={fscore[ix]:.3f}, Precision={precision[ix]:.3f}, Recall={recall[ix]:.3f}')"
   ]
  },
  {
   "cell_type": "code",
   "execution_count": 78,
   "id": "ce6c56da",
   "metadata": {},
   "outputs": [
    {
     "data": {
      "text/plain": [
       "0.971928600500029"
      ]
     },
     "execution_count": 78,
     "metadata": {},
     "output_type": "execute_result"
    }
   ],
   "source": [
    "roc_auc = roc_auc_score(y_test, preds)\n",
    "roc_auc"
   ]
  },
  {
   "cell_type": "code",
   "execution_count": 79,
   "id": "0752e7a7",
   "metadata": {},
   "outputs": [
    {
     "data": {
      "image/png": "[encoded data removed]",
      "text/plain": [
       "<Figure size 1000x600 with 1 Axes>"
      ]
     },
     "metadata": {},
     "output_type": "display_data"
    }
   ],
   "source": [
    "n = 50\n",
    "plt.figure(figsize=(10, 6))\n",
    "plt.plot(preds[:n], label='predict')\n",
    "plt.plot(y_test.values[:n], label='true')\n",
    "plt.title('ответ модели')\n",
    "plt.xlabel('№ примера')\n",
    "plt.ylabel('выход')\n",
    "plt.legend()\n",
    "plt.grid('On')\n",
    "plt.show()"
   ]
  },
  {
   "cell_type": "markdown",
   "id": "08dff7db",
   "metadata": {},
   "source": [
    "# Домашнее задание\n",
    "\n",
    "Модифицировать код функции get_user_embedding таким образом, чтобы считалось не среднее (как в примере np.mean), а медиана. Применить такое преобразование к данным, обучить модель прогнозирования оттока и посчитать метрики качества и сохранить их: roc auc, precision/recall/f_score (для 3 последних - подобрать оптимальный порог)"
   ]
  },
  {
   "cell_type": "code",
   "execution_count": 80,
   "id": "35afa069",
   "metadata": {},
   "outputs": [],
   "source": [
    "func = np.median"
   ]
  },
  {
   "cell_type": "code",
   "execution_count": 81,
   "id": "8ce27f0d",
   "metadata": {},
   "outputs": [
    {
     "name": "stdout",
     "output_type": "stream",
     "text": [
      "Wall time: 234 ms\n"
     ]
    },
    {
     "data": {
      "text/html": [
       "<div>\n",
       "<style scoped>\n",
       "    .dataframe tbody tr th:only-of-type {\n",
       "        vertical-align: middle;\n",
       "    }\n",
       "\n",
       "    .dataframe tbody tr th {\n",
       "        vertical-align: top;\n",
       "    }\n",
       "\n",
       "    .dataframe thead th {\n",
       "        text-align: right;\n",
       "    }\n",
       "</style>\n",
       "<table border=\"1\" class=\"dataframe\">\n",
       "  <thead>\n",
       "    <tr style=\"text-align: right;\">\n",
       "      <th></th>\n",
       "      <th>uid</th>\n",
       "      <th>topic_0</th>\n",
       "      <th>topic_1</th>\n",
       "      <th>topic_2</th>\n",
       "      <th>topic_3</th>\n",
       "      <th>topic_4</th>\n",
       "      <th>topic_5</th>\n",
       "      <th>topic_6</th>\n",
       "      <th>topic_7</th>\n",
       "      <th>topic_8</th>\n",
       "      <th>...</th>\n",
       "      <th>topic_10</th>\n",
       "      <th>topic_11</th>\n",
       "      <th>topic_12</th>\n",
       "      <th>topic_13</th>\n",
       "      <th>topic_14</th>\n",
       "      <th>topic_15</th>\n",
       "      <th>topic_16</th>\n",
       "      <th>topic_17</th>\n",
       "      <th>topic_18</th>\n",
       "      <th>topic_19</th>\n",
       "    </tr>\n",
       "  </thead>\n",
       "  <tbody>\n",
       "    <tr>\n",
       "      <th>0</th>\n",
       "      <td>u105138</td>\n",
       "      <td>0.073821</td>\n",
       "      <td>0.000000</td>\n",
       "      <td>0.0</td>\n",
       "      <td>0.200929</td>\n",
       "      <td>0.000000</td>\n",
       "      <td>0.0</td>\n",
       "      <td>0.000000</td>\n",
       "      <td>0.020263</td>\n",
       "      <td>0.110373</td>\n",
       "      <td>...</td>\n",
       "      <td>0.078853</td>\n",
       "      <td>0.00000</td>\n",
       "      <td>0.000000</td>\n",
       "      <td>0.017968</td>\n",
       "      <td>0.0</td>\n",
       "      <td>0.000000</td>\n",
       "      <td>0.000000</td>\n",
       "      <td>0.000000</td>\n",
       "      <td>0.0</td>\n",
       "      <td>0.055515</td>\n",
       "    </tr>\n",
       "    <tr>\n",
       "      <th>1</th>\n",
       "      <td>u108690</td>\n",
       "      <td>0.077032</td>\n",
       "      <td>0.000000</td>\n",
       "      <td>0.0</td>\n",
       "      <td>0.124132</td>\n",
       "      <td>0.005436</td>\n",
       "      <td>0.0</td>\n",
       "      <td>0.014375</td>\n",
       "      <td>0.052239</td>\n",
       "      <td>0.032587</td>\n",
       "      <td>...</td>\n",
       "      <td>0.226843</td>\n",
       "      <td>0.00000</td>\n",
       "      <td>0.090127</td>\n",
       "      <td>0.012995</td>\n",
       "      <td>0.0</td>\n",
       "      <td>0.024842</td>\n",
       "      <td>0.015680</td>\n",
       "      <td>0.000000</td>\n",
       "      <td>0.0</td>\n",
       "      <td>0.069812</td>\n",
       "    </tr>\n",
       "    <tr>\n",
       "      <th>2</th>\n",
       "      <td>u108339</td>\n",
       "      <td>0.121825</td>\n",
       "      <td>0.008884</td>\n",
       "      <td>0.0</td>\n",
       "      <td>0.123924</td>\n",
       "      <td>0.045844</td>\n",
       "      <td>0.0</td>\n",
       "      <td>0.000000</td>\n",
       "      <td>0.160830</td>\n",
       "      <td>0.054794</td>\n",
       "      <td>...</td>\n",
       "      <td>0.096107</td>\n",
       "      <td>0.00756</td>\n",
       "      <td>0.015252</td>\n",
       "      <td>0.014828</td>\n",
       "      <td>0.0</td>\n",
       "      <td>0.007525</td>\n",
       "      <td>0.062952</td>\n",
       "      <td>0.028666</td>\n",
       "      <td>0.0</td>\n",
       "      <td>0.036291</td>\n",
       "    </tr>\n",
       "  </tbody>\n",
       "</table>\n",
       "<p>3 rows × 21 columns</p>\n",
       "</div>"
      ],
      "text/plain": [
       "       uid   topic_0   topic_1  topic_2   topic_3   topic_4  topic_5  \\\n",
       "0  u105138  0.073821  0.000000      0.0  0.200929  0.000000      0.0   \n",
       "1  u108690  0.077032  0.000000      0.0  0.124132  0.005436      0.0   \n",
       "2  u108339  0.121825  0.008884      0.0  0.123924  0.045844      0.0   \n",
       "\n",
       "    topic_6   topic_7   topic_8  ...  topic_10  topic_11  topic_12  topic_13  \\\n",
       "0  0.000000  0.020263  0.110373  ...  0.078853   0.00000  0.000000  0.017968   \n",
       "1  0.014375  0.052239  0.032587  ...  0.226843   0.00000  0.090127  0.012995   \n",
       "2  0.000000  0.160830  0.054794  ...  0.096107   0.00756  0.015252  0.014828   \n",
       "\n",
       "   topic_14  topic_15  topic_16  topic_17  topic_18  topic_19  \n",
       "0       0.0  0.000000  0.000000  0.000000       0.0  0.055515  \n",
       "1       0.0  0.024842  0.015680  0.000000       0.0  0.069812  \n",
       "2       0.0  0.007525  0.062952  0.028666       0.0  0.036291  \n",
       "\n",
       "[3 rows x 21 columns]"
      ]
     },
     "execution_count": 81,
     "metadata": {},
     "output_type": "execute_result"
    }
   ],
   "source": [
    "%%time\n",
    "\n",
    "user_embeddings = pd.DataFrame([i for i in users['articles'].apply(lambda x: get_user_embedding(x, doc_dict, func))])\n",
    "user_embeddings.columns = [f'topic_{i}' for i in range(N_topic)]\n",
    "user_embeddings['uid'] = users['uid'].values\n",
    "user_embeddings = user_embeddings[['uid']+[f'topic_{i}' for i in range(N_topic)]]\n",
    "user_embeddings.head(3)"
   ]
  },
  {
   "cell_type": "code",
   "execution_count": 82,
   "id": "a422e65e",
   "metadata": {},
   "outputs": [
    {
     "data": {
      "text/html": [
       "<div>\n",
       "<style scoped>\n",
       "    .dataframe tbody tr th:only-of-type {\n",
       "        vertical-align: middle;\n",
       "    }\n",
       "\n",
       "    .dataframe tbody tr th {\n",
       "        vertical-align: top;\n",
       "    }\n",
       "\n",
       "    .dataframe thead th {\n",
       "        text-align: right;\n",
       "    }\n",
       "</style>\n",
       "<table border=\"1\" class=\"dataframe\">\n",
       "  <thead>\n",
       "    <tr style=\"text-align: right;\">\n",
       "      <th></th>\n",
       "      <th>uid</th>\n",
       "      <th>topic_0</th>\n",
       "      <th>topic_1</th>\n",
       "      <th>topic_2</th>\n",
       "      <th>topic_3</th>\n",
       "      <th>topic_4</th>\n",
       "      <th>topic_5</th>\n",
       "      <th>topic_6</th>\n",
       "      <th>topic_7</th>\n",
       "      <th>topic_8</th>\n",
       "      <th>...</th>\n",
       "      <th>topic_11</th>\n",
       "      <th>topic_12</th>\n",
       "      <th>topic_13</th>\n",
       "      <th>topic_14</th>\n",
       "      <th>topic_15</th>\n",
       "      <th>topic_16</th>\n",
       "      <th>topic_17</th>\n",
       "      <th>topic_18</th>\n",
       "      <th>topic_19</th>\n",
       "      <th>churn</th>\n",
       "    </tr>\n",
       "  </thead>\n",
       "  <tbody>\n",
       "    <tr>\n",
       "      <th>0</th>\n",
       "      <td>u105138</td>\n",
       "      <td>0.073821</td>\n",
       "      <td>0.000000</td>\n",
       "      <td>0.0</td>\n",
       "      <td>0.200929</td>\n",
       "      <td>0.000000</td>\n",
       "      <td>0.0</td>\n",
       "      <td>0.000000</td>\n",
       "      <td>0.020263</td>\n",
       "      <td>0.110373</td>\n",
       "      <td>...</td>\n",
       "      <td>0.00000</td>\n",
       "      <td>0.000000</td>\n",
       "      <td>0.017968</td>\n",
       "      <td>0.0</td>\n",
       "      <td>0.000000</td>\n",
       "      <td>0.000000</td>\n",
       "      <td>0.000000</td>\n",
       "      <td>0.0</td>\n",
       "      <td>0.055515</td>\n",
       "      <td>0</td>\n",
       "    </tr>\n",
       "    <tr>\n",
       "      <th>1</th>\n",
       "      <td>u108690</td>\n",
       "      <td>0.077032</td>\n",
       "      <td>0.000000</td>\n",
       "      <td>0.0</td>\n",
       "      <td>0.124132</td>\n",
       "      <td>0.005436</td>\n",
       "      <td>0.0</td>\n",
       "      <td>0.014375</td>\n",
       "      <td>0.052239</td>\n",
       "      <td>0.032587</td>\n",
       "      <td>...</td>\n",
       "      <td>0.00000</td>\n",
       "      <td>0.090127</td>\n",
       "      <td>0.012995</td>\n",
       "      <td>0.0</td>\n",
       "      <td>0.024842</td>\n",
       "      <td>0.015680</td>\n",
       "      <td>0.000000</td>\n",
       "      <td>0.0</td>\n",
       "      <td>0.069812</td>\n",
       "      <td>1</td>\n",
       "    </tr>\n",
       "    <tr>\n",
       "      <th>2</th>\n",
       "      <td>u108339</td>\n",
       "      <td>0.121825</td>\n",
       "      <td>0.008884</td>\n",
       "      <td>0.0</td>\n",
       "      <td>0.123924</td>\n",
       "      <td>0.045844</td>\n",
       "      <td>0.0</td>\n",
       "      <td>0.000000</td>\n",
       "      <td>0.160830</td>\n",
       "      <td>0.054794</td>\n",
       "      <td>...</td>\n",
       "      <td>0.00756</td>\n",
       "      <td>0.015252</td>\n",
       "      <td>0.014828</td>\n",
       "      <td>0.0</td>\n",
       "      <td>0.007525</td>\n",
       "      <td>0.062952</td>\n",
       "      <td>0.028666</td>\n",
       "      <td>0.0</td>\n",
       "      <td>0.036291</td>\n",
       "      <td>1</td>\n",
       "    </tr>\n",
       "  </tbody>\n",
       "</table>\n",
       "<p>3 rows × 22 columns</p>\n",
       "</div>"
      ],
      "text/plain": [
       "       uid   topic_0   topic_1  topic_2   topic_3   topic_4  topic_5  \\\n",
       "0  u105138  0.073821  0.000000      0.0  0.200929  0.000000      0.0   \n",
       "1  u108690  0.077032  0.000000      0.0  0.124132  0.005436      0.0   \n",
       "2  u108339  0.121825  0.008884      0.0  0.123924  0.045844      0.0   \n",
       "\n",
       "    topic_6   topic_7   topic_8  ...  topic_11  topic_12  topic_13  topic_14  \\\n",
       "0  0.000000  0.020263  0.110373  ...   0.00000  0.000000  0.017968       0.0   \n",
       "1  0.014375  0.052239  0.032587  ...   0.00000  0.090127  0.012995       0.0   \n",
       "2  0.000000  0.160830  0.054794  ...   0.00756  0.015252  0.014828       0.0   \n",
       "\n",
       "   topic_15  topic_16  topic_17  topic_18  topic_19  churn  \n",
       "0  0.000000  0.000000  0.000000       0.0  0.055515      0  \n",
       "1  0.024842  0.015680  0.000000       0.0  0.069812      1  \n",
       "2  0.007525  0.062952  0.028666       0.0  0.036291      1  \n",
       "\n",
       "[3 rows x 22 columns]"
      ]
     },
     "execution_count": 82,
     "metadata": {},
     "output_type": "execute_result"
    }
   ],
   "source": [
    "X = pd.merge(user_embeddings, target, 'left')\n",
    "X.head(3)"
   ]
  },
  {
   "cell_type": "code",
   "execution_count": 83,
   "id": "29d1d70c",
   "metadata": {},
   "outputs": [],
   "source": [
    "# разделим данные на train/test\n",
    "X_train, X_test, y_train, y_test = train_test_split(X[[f'topic_{i}' for i in range(N_topic)]], \n",
    "                                                    X['churn'], random_state=0)"
   ]
  },
  {
   "cell_type": "code",
   "execution_count": 84,
   "id": "72832dc1",
   "metadata": {},
   "outputs": [
    {
     "data": {
      "text/plain": [
       "LogisticRegression()"
      ]
     },
     "execution_count": 84,
     "metadata": {},
     "output_type": "execute_result"
    }
   ],
   "source": [
    "model = LogisticRegression()\n",
    "# обучим \n",
    "model.fit(X_train, y_train)"
   ]
  },
  {
   "cell_type": "code",
   "execution_count": 85,
   "id": "f117c457",
   "metadata": {},
   "outputs": [
    {
     "data": {
      "text/plain": [
       "array([0.09262531, 0.04289496, 0.61680902, 0.25050511, 0.04150039,\n",
       "       0.02614012, 0.08096658, 0.00269756, 0.21777555, 0.02738914])"
      ]
     },
     "execution_count": 85,
     "metadata": {},
     "output_type": "execute_result"
    }
   ],
   "source": [
    "# наши прогнозы для тестовой выборки\n",
    "preds = model.predict_proba(X_test)[:, 1]\n",
    "preds[:10]"
   ]
  },
  {
   "cell_type": "code",
   "execution_count": 86,
   "id": "80de79ec",
   "metadata": {},
   "outputs": [
    {
     "name": "stdout",
     "output_type": "stream",
     "text": [
      "Best Threshold=0.31408979992530855, F-Score=0.784, Precision=0.824, Recall=0.747\n"
     ]
    }
   ],
   "source": [
    "precision, recall, thresholds = precision_recall_curve(y_test, preds)\n",
    "fscore = (2 * precision * recall) / (precision + recall)\n",
    "# locate the index of the largest f score\n",
    "ix = np.argmax(fscore)\n",
    "print(f'Best Threshold={thresholds[ix]}, F-Score={fscore[ix]:.3f}, Precision={precision[ix]:.3f}, Recall={recall[ix]:.3f}')"
   ]
  },
  {
   "cell_type": "code",
   "execution_count": 87,
   "id": "cc9b2f0e",
   "metadata": {},
   "outputs": [
    {
     "data": {
      "text/plain": [
       "0.9730612244897958"
      ]
     },
     "execution_count": 87,
     "metadata": {},
     "output_type": "execute_result"
    }
   ],
   "source": [
    "roc_auc = roc_auc_score(y_test, preds)\n",
    "roc_auc"
   ]
  },
  {
   "cell_type": "markdown",
   "id": "462b2468",
   "metadata": {},
   "source": [
    "## Повторить п.2, но используя уже не медиану, а max"
   ]
  },
  {
   "cell_type": "code",
   "execution_count": 88,
   "id": "fe050032",
   "metadata": {},
   "outputs": [],
   "source": [
    "FUNC = np.max"
   ]
  },
  {
   "cell_type": "code",
   "execution_count": 89,
   "id": "dabb8974",
   "metadata": {},
   "outputs": [
    {
     "data": {
      "text/html": [
       "<div>\n",
       "<style scoped>\n",
       "    .dataframe tbody tr th:only-of-type {\n",
       "        vertical-align: middle;\n",
       "    }\n",
       "\n",
       "    .dataframe tbody tr th {\n",
       "        vertical-align: top;\n",
       "    }\n",
       "\n",
       "    .dataframe thead th {\n",
       "        text-align: right;\n",
       "    }\n",
       "</style>\n",
       "<table border=\"1\" class=\"dataframe\">\n",
       "  <thead>\n",
       "    <tr style=\"text-align: right;\">\n",
       "      <th></th>\n",
       "      <th>uid</th>\n",
       "      <th>topic_0</th>\n",
       "      <th>topic_1</th>\n",
       "      <th>topic_2</th>\n",
       "      <th>topic_3</th>\n",
       "      <th>topic_4</th>\n",
       "      <th>topic_5</th>\n",
       "      <th>topic_6</th>\n",
       "      <th>topic_7</th>\n",
       "      <th>topic_8</th>\n",
       "      <th>...</th>\n",
       "      <th>topic_10</th>\n",
       "      <th>topic_11</th>\n",
       "      <th>topic_12</th>\n",
       "      <th>topic_13</th>\n",
       "      <th>topic_14</th>\n",
       "      <th>topic_15</th>\n",
       "      <th>topic_16</th>\n",
       "      <th>topic_17</th>\n",
       "      <th>topic_18</th>\n",
       "      <th>topic_19</th>\n",
       "    </tr>\n",
       "  </thead>\n",
       "  <tbody>\n",
       "    <tr>\n",
       "      <th>0</th>\n",
       "      <td>u105138</td>\n",
       "      <td>0.356551</td>\n",
       "      <td>0.000000</td>\n",
       "      <td>0.012996</td>\n",
       "      <td>0.374373</td>\n",
       "      <td>0.153831</td>\n",
       "      <td>0.027123</td>\n",
       "      <td>0.140920</td>\n",
       "      <td>0.339202</td>\n",
       "      <td>0.283554</td>\n",
       "      <td>...</td>\n",
       "      <td>0.367285</td>\n",
       "      <td>0.065503</td>\n",
       "      <td>0.103047</td>\n",
       "      <td>0.232965</td>\n",
       "      <td>0.000000</td>\n",
       "      <td>0.207241</td>\n",
       "      <td>0.119060</td>\n",
       "      <td>0.175482</td>\n",
       "      <td>0.021502</td>\n",
       "      <td>0.159989</td>\n",
       "    </tr>\n",
       "    <tr>\n",
       "      <th>1</th>\n",
       "      <td>u108690</td>\n",
       "      <td>0.200823</td>\n",
       "      <td>0.054371</td>\n",
       "      <td>0.000000</td>\n",
       "      <td>0.231918</td>\n",
       "      <td>0.038015</td>\n",
       "      <td>0.000000</td>\n",
       "      <td>0.035122</td>\n",
       "      <td>0.294211</td>\n",
       "      <td>0.097742</td>\n",
       "      <td>...</td>\n",
       "      <td>0.327077</td>\n",
       "      <td>0.040576</td>\n",
       "      <td>0.215890</td>\n",
       "      <td>0.067660</td>\n",
       "      <td>0.000000</td>\n",
       "      <td>0.195294</td>\n",
       "      <td>0.064844</td>\n",
       "      <td>0.235938</td>\n",
       "      <td>0.000000</td>\n",
       "      <td>0.230316</td>\n",
       "    </tr>\n",
       "    <tr>\n",
       "      <th>2</th>\n",
       "      <td>u108339</td>\n",
       "      <td>0.219390</td>\n",
       "      <td>0.156851</td>\n",
       "      <td>0.000000</td>\n",
       "      <td>0.176754</td>\n",
       "      <td>0.080688</td>\n",
       "      <td>0.000000</td>\n",
       "      <td>0.070405</td>\n",
       "      <td>0.254950</td>\n",
       "      <td>0.251357</td>\n",
       "      <td>...</td>\n",
       "      <td>0.277072</td>\n",
       "      <td>0.039142</td>\n",
       "      <td>0.100044</td>\n",
       "      <td>0.026966</td>\n",
       "      <td>0.011751</td>\n",
       "      <td>0.161085</td>\n",
       "      <td>0.234764</td>\n",
       "      <td>0.160753</td>\n",
       "      <td>0.017131</td>\n",
       "      <td>0.101770</td>\n",
       "    </tr>\n",
       "  </tbody>\n",
       "</table>\n",
       "<p>3 rows × 21 columns</p>\n",
       "</div>"
      ],
      "text/plain": [
       "       uid   topic_0   topic_1   topic_2   topic_3   topic_4   topic_5  \\\n",
       "0  u105138  0.356551  0.000000  0.012996  0.374373  0.153831  0.027123   \n",
       "1  u108690  0.200823  0.054371  0.000000  0.231918  0.038015  0.000000   \n",
       "2  u108339  0.219390  0.156851  0.000000  0.176754  0.080688  0.000000   \n",
       "\n",
       "    topic_6   topic_7   topic_8  ...  topic_10  topic_11  topic_12  topic_13  \\\n",
       "0  0.140920  0.339202  0.283554  ...  0.367285  0.065503  0.103047  0.232965   \n",
       "1  0.035122  0.294211  0.097742  ...  0.327077  0.040576  0.215890  0.067660   \n",
       "2  0.070405  0.254950  0.251357  ...  0.277072  0.039142  0.100044  0.026966   \n",
       "\n",
       "   topic_14  topic_15  topic_16  topic_17  topic_18  topic_19  \n",
       "0  0.000000  0.207241  0.119060  0.175482  0.021502  0.159989  \n",
       "1  0.000000  0.195294  0.064844  0.235938  0.000000  0.230316  \n",
       "2  0.011751  0.161085  0.234764  0.160753  0.017131  0.101770  \n",
       "\n",
       "[3 rows x 21 columns]"
      ]
     },
     "execution_count": 89,
     "metadata": {},
     "output_type": "execute_result"
    }
   ],
   "source": [
    "user_embeddings = pd.DataFrame([i for i in users['articles'].apply(lambda x: get_user_embedding(x, doc_dict, FUNC))])\n",
    "user_embeddings.columns = [f'topic_{i}' for i in range(N_topic)]\n",
    "user_embeddings['uid'] = users['uid'].values\n",
    "user_embeddings = user_embeddings[['uid']+[f'topic_{i}' for i in range(N_topic)]]\n",
    "user_embeddings.head(3)"
   ]
  },
  {
   "cell_type": "code",
   "execution_count": 90,
   "id": "19254002",
   "metadata": {},
   "outputs": [
    {
     "data": {
      "text/html": [
       "<div>\n",
       "<style scoped>\n",
       "    .dataframe tbody tr th:only-of-type {\n",
       "        vertical-align: middle;\n",
       "    }\n",
       "\n",
       "    .dataframe tbody tr th {\n",
       "        vertical-align: top;\n",
       "    }\n",
       "\n",
       "    .dataframe thead th {\n",
       "        text-align: right;\n",
       "    }\n",
       "</style>\n",
       "<table border=\"1\" class=\"dataframe\">\n",
       "  <thead>\n",
       "    <tr style=\"text-align: right;\">\n",
       "      <th></th>\n",
       "      <th>uid</th>\n",
       "      <th>topic_0</th>\n",
       "      <th>topic_1</th>\n",
       "      <th>topic_2</th>\n",
       "      <th>topic_3</th>\n",
       "      <th>topic_4</th>\n",
       "      <th>topic_5</th>\n",
       "      <th>topic_6</th>\n",
       "      <th>topic_7</th>\n",
       "      <th>topic_8</th>\n",
       "      <th>...</th>\n",
       "      <th>topic_11</th>\n",
       "      <th>topic_12</th>\n",
       "      <th>topic_13</th>\n",
       "      <th>topic_14</th>\n",
       "      <th>topic_15</th>\n",
       "      <th>topic_16</th>\n",
       "      <th>topic_17</th>\n",
       "      <th>topic_18</th>\n",
       "      <th>topic_19</th>\n",
       "      <th>churn</th>\n",
       "    </tr>\n",
       "  </thead>\n",
       "  <tbody>\n",
       "    <tr>\n",
       "      <th>0</th>\n",
       "      <td>u105138</td>\n",
       "      <td>0.356551</td>\n",
       "      <td>0.000000</td>\n",
       "      <td>0.012996</td>\n",
       "      <td>0.374373</td>\n",
       "      <td>0.153831</td>\n",
       "      <td>0.027123</td>\n",
       "      <td>0.140920</td>\n",
       "      <td>0.339202</td>\n",
       "      <td>0.283554</td>\n",
       "      <td>...</td>\n",
       "      <td>0.065503</td>\n",
       "      <td>0.103047</td>\n",
       "      <td>0.232965</td>\n",
       "      <td>0.000000</td>\n",
       "      <td>0.207241</td>\n",
       "      <td>0.119060</td>\n",
       "      <td>0.175482</td>\n",
       "      <td>0.021502</td>\n",
       "      <td>0.159989</td>\n",
       "      <td>0</td>\n",
       "    </tr>\n",
       "    <tr>\n",
       "      <th>1</th>\n",
       "      <td>u108690</td>\n",
       "      <td>0.200823</td>\n",
       "      <td>0.054371</td>\n",
       "      <td>0.000000</td>\n",
       "      <td>0.231918</td>\n",
       "      <td>0.038015</td>\n",
       "      <td>0.000000</td>\n",
       "      <td>0.035122</td>\n",
       "      <td>0.294211</td>\n",
       "      <td>0.097742</td>\n",
       "      <td>...</td>\n",
       "      <td>0.040576</td>\n",
       "      <td>0.215890</td>\n",
       "      <td>0.067660</td>\n",
       "      <td>0.000000</td>\n",
       "      <td>0.195294</td>\n",
       "      <td>0.064844</td>\n",
       "      <td>0.235938</td>\n",
       "      <td>0.000000</td>\n",
       "      <td>0.230316</td>\n",
       "      <td>1</td>\n",
       "    </tr>\n",
       "    <tr>\n",
       "      <th>2</th>\n",
       "      <td>u108339</td>\n",
       "      <td>0.219390</td>\n",
       "      <td>0.156851</td>\n",
       "      <td>0.000000</td>\n",
       "      <td>0.176754</td>\n",
       "      <td>0.080688</td>\n",
       "      <td>0.000000</td>\n",
       "      <td>0.070405</td>\n",
       "      <td>0.254950</td>\n",
       "      <td>0.251357</td>\n",
       "      <td>...</td>\n",
       "      <td>0.039142</td>\n",
       "      <td>0.100044</td>\n",
       "      <td>0.026966</td>\n",
       "      <td>0.011751</td>\n",
       "      <td>0.161085</td>\n",
       "      <td>0.234764</td>\n",
       "      <td>0.160753</td>\n",
       "      <td>0.017131</td>\n",
       "      <td>0.101770</td>\n",
       "      <td>1</td>\n",
       "    </tr>\n",
       "  </tbody>\n",
       "</table>\n",
       "<p>3 rows × 22 columns</p>\n",
       "</div>"
      ],
      "text/plain": [
       "       uid   topic_0   topic_1   topic_2   topic_3   topic_4   topic_5  \\\n",
       "0  u105138  0.356551  0.000000  0.012996  0.374373  0.153831  0.027123   \n",
       "1  u108690  0.200823  0.054371  0.000000  0.231918  0.038015  0.000000   \n",
       "2  u108339  0.219390  0.156851  0.000000  0.176754  0.080688  0.000000   \n",
       "\n",
       "    topic_6   topic_7   topic_8  ...  topic_11  topic_12  topic_13  topic_14  \\\n",
       "0  0.140920  0.339202  0.283554  ...  0.065503  0.103047  0.232965  0.000000   \n",
       "1  0.035122  0.294211  0.097742  ...  0.040576  0.215890  0.067660  0.000000   \n",
       "2  0.070405  0.254950  0.251357  ...  0.039142  0.100044  0.026966  0.011751   \n",
       "\n",
       "   topic_15  topic_16  topic_17  topic_18  topic_19  churn  \n",
       "0  0.207241  0.119060  0.175482  0.021502  0.159989      0  \n",
       "1  0.195294  0.064844  0.235938  0.000000  0.230316      1  \n",
       "2  0.161085  0.234764  0.160753  0.017131  0.101770      1  \n",
       "\n",
       "[3 rows x 22 columns]"
      ]
     },
     "execution_count": 90,
     "metadata": {},
     "output_type": "execute_result"
    }
   ],
   "source": [
    "X = pd.merge(user_embeddings, target, 'left')\n",
    "X.head(3)"
   ]
  },
  {
   "cell_type": "code",
   "execution_count": 91,
   "id": "2ad94ce6",
   "metadata": {},
   "outputs": [],
   "source": [
    "# разделим данные на train/test\n",
    "X_train, X_test, y_train, y_test = train_test_split(X[[f'topic_{i}' for i in range(N_topic)]], \n",
    "                                                    X['churn'], random_state=0)"
   ]
  },
  {
   "cell_type": "code",
   "execution_count": 92,
   "id": "11a2c0ca",
   "metadata": {},
   "outputs": [
    {
     "data": {
      "text/plain": [
       "LogisticRegression()"
      ]
     },
     "execution_count": 92,
     "metadata": {},
     "output_type": "execute_result"
    }
   ],
   "source": [
    "model = LogisticRegression()\n",
    "# обучим \n",
    "model.fit(X_train, y_train)"
   ]
  },
  {
   "cell_type": "code",
   "execution_count": 93,
   "id": "10af7998",
   "metadata": {},
   "outputs": [
    {
     "data": {
      "text/plain": [
       "array([0.2182023 , 0.05092231, 0.74262257, 0.26304772, 0.00207359,\n",
       "       0.0112289 , 0.00580209, 0.00183   , 0.13877608, 0.02671774])"
      ]
     },
     "execution_count": 93,
     "metadata": {},
     "output_type": "execute_result"
    }
   ],
   "source": [
    "# наши прогнозы для тестовой выборки\n",
    "preds = model.predict_proba(X_test)[:, 1]\n",
    "preds[:10]"
   ]
  },
  {
   "cell_type": "code",
   "execution_count": 94,
   "id": "1941dd19",
   "metadata": {},
   "outputs": [
    {
     "name": "stdout",
     "output_type": "stream",
     "text": [
      "Best Threshold=0.34157034681770027, F-Score=0.727, Precision=0.715, Recall=0.739\n"
     ]
    }
   ],
   "source": [
    "precision, recall, thresholds = precision_recall_curve(y_test, preds)\n",
    "fscore = (2 * precision * recall) / (precision + recall)\n",
    "# locate the index of the largest f score\n",
    "ix = np.argmax(fscore)\n",
    "print(f'Best Threshold={thresholds[ix]}, F-Score={fscore[ix]:.3f}, Precision={precision[ix]:.3f}, Recall={recall[ix]:.3f}')"
   ]
  },
  {
   "cell_type": "code",
   "execution_count": 95,
   "id": "c5a358e8",
   "metadata": {},
   "outputs": [
    {
     "data": {
      "text/plain": [
       "0.9603953718239432"
      ]
     },
     "execution_count": 95,
     "metadata": {},
     "output_type": "execute_result"
    }
   ],
   "source": [
    "roc_auc = roc_auc_score(y_test, preds)\n",
    "roc_auc"
   ]
  },
  {
   "cell_type": "markdown",
   "id": "3e3d245b",
   "metadata": {},
   "source": [
    "### Воспользовавшись полученными знаниями из п.1, повторить пункт 2, но уже взвешивая новости по tfidf (взяв список новостей пользователя)\n",
    "#### подсказка 1: нужно получить веса-коэффициенты для каждого документа. Не все документы одинаково информативны и несут какой-то положительный сигнал\n",
    "#### подсказка 2: нужен именно idf, как вес."
   ]
  },
  {
   "cell_type": "code",
   "execution_count": 96,
   "id": "ba05c1cd",
   "metadata": {},
   "outputs": [],
   "source": [
    "from sklearn.feature_extraction.text import TfidfVectorizer"
   ]
  },
  {
   "cell_type": "code",
   "execution_count": 97,
   "id": "28103f77",
   "metadata": {},
   "outputs": [
    {
     "data": {
      "text/plain": [
       "'293672 293328 293001 293622 293126 1852'"
      ]
     },
     "execution_count": 97,
     "metadata": {},
     "output_type": "execute_result"
    }
   ],
   "source": [
    "users['articles_str'] = users['articles'].apply(lambda x: x.replace('[','').replace(']', '').replace(',', ''))\n",
    "users['articles_str'].iloc[0]"
   ]
  },
  {
   "cell_type": "code",
   "execution_count": 98,
   "id": "56a66862",
   "metadata": {},
   "outputs": [
    {
     "data": {
      "text/plain": [
       "TfidfVectorizer()"
      ]
     },
     "execution_count": 98,
     "metadata": {},
     "output_type": "execute_result"
    }
   ],
   "source": [
    "tfidf = TfidfVectorizer()\n",
    "tfidf.fit(users['articles_str'])"
   ]
  },
  {
   "cell_type": "code",
   "execution_count": 99,
   "id": "b43ff11b",
   "metadata": {},
   "outputs": [
    {
     "data": {
      "text/html": [
       "<div>\n",
       "<style scoped>\n",
       "    .dataframe tbody tr th:only-of-type {\n",
       "        vertical-align: middle;\n",
       "    }\n",
       "\n",
       "    .dataframe tbody tr th {\n",
       "        vertical-align: top;\n",
       "    }\n",
       "\n",
       "    .dataframe thead th {\n",
       "        text-align: right;\n",
       "    }\n",
       "</style>\n",
       "<table border=\"1\" class=\"dataframe\">\n",
       "  <thead>\n",
       "    <tr style=\"text-align: right;\">\n",
       "      <th></th>\n",
       "      <th>article_id</th>\n",
       "      <th>idf</th>\n",
       "    </tr>\n",
       "  </thead>\n",
       "  <tbody>\n",
       "    <tr>\n",
       "      <th>0</th>\n",
       "      <td>10</td>\n",
       "      <td>8.888710</td>\n",
       "    </tr>\n",
       "    <tr>\n",
       "      <th>1</th>\n",
       "      <td>100</td>\n",
       "      <td>7.907880</td>\n",
       "    </tr>\n",
       "    <tr>\n",
       "      <th>2</th>\n",
       "      <td>1000</td>\n",
       "      <td>8.041412</td>\n",
       "    </tr>\n",
       "    <tr>\n",
       "      <th>3</th>\n",
       "      <td>1001</td>\n",
       "      <td>8.888710</td>\n",
       "    </tr>\n",
       "    <tr>\n",
       "      <th>4</th>\n",
       "      <td>1002</td>\n",
       "      <td>8.888710</td>\n",
       "    </tr>\n",
       "    <tr>\n",
       "      <th>...</th>\n",
       "      <td>...</td>\n",
       "      <td>...</td>\n",
       "    </tr>\n",
       "    <tr>\n",
       "      <th>14776</th>\n",
       "      <td>995</td>\n",
       "      <td>8.377884</td>\n",
       "    </tr>\n",
       "    <tr>\n",
       "      <th>14777</th>\n",
       "      <td>996</td>\n",
       "      <td>8.195562</td>\n",
       "    </tr>\n",
       "    <tr>\n",
       "      <th>14778</th>\n",
       "      <td>997</td>\n",
       "      <td>8.601027</td>\n",
       "    </tr>\n",
       "    <tr>\n",
       "      <th>14779</th>\n",
       "      <td>998</td>\n",
       "      <td>9.294175</td>\n",
       "    </tr>\n",
       "    <tr>\n",
       "      <th>14780</th>\n",
       "      <td>999</td>\n",
       "      <td>8.601027</td>\n",
       "    </tr>\n",
       "  </tbody>\n",
       "</table>\n",
       "<p>14781 rows × 2 columns</p>\n",
       "</div>"
      ],
      "text/plain": [
       "      article_id       idf\n",
       "0             10  8.888710\n",
       "1            100  7.907880\n",
       "2           1000  8.041412\n",
       "3           1001  8.888710\n",
       "4           1002  8.888710\n",
       "...          ...       ...\n",
       "14776        995  8.377884\n",
       "14777        996  8.195562\n",
       "14778        997  8.601027\n",
       "14779        998  9.294175\n",
       "14780        999  8.601027\n",
       "\n",
       "[14781 rows x 2 columns]"
      ]
     },
     "execution_count": 99,
     "metadata": {},
     "output_type": "execute_result"
    }
   ],
   "source": [
    "idf = pd.DataFrame({'article_id': tfidf.get_feature_names_out(),\n",
    "                    'idf': tfidf.idf_})\n",
    "\n",
    "idf"
   ]
  },
  {
   "cell_type": "code",
   "execution_count": 100,
   "id": "389a240f",
   "metadata": {},
   "outputs": [],
   "source": [
    "def get_user_embedding_idf(user_articles_list, doc_dict):\n",
    "    user_articles_list = eval(user_articles_list)\n",
    "    \n",
    "    user_vector = np.zeros((len(user_articles_list), N_topic))\n",
    "    for i, doc_id in enumerate(user_articles_list):\n",
    "        try:\n",
    "            weight = idf[idf['article_id'] == str(doc_id)]['idf'].values[0]\n",
    "        except Exception as e:\n",
    "            weight = 0\n",
    "        user_vector[i] = doc_dict[doc_id] * weight\n",
    "\n",
    "    user_vector = np.median(user_vector, axis=0)\n",
    "    return user_vector"
   ]
  },
  {
   "cell_type": "code",
   "execution_count": 101,
   "id": "660c5ce2",
   "metadata": {},
   "outputs": [
    {
     "name": "stderr",
     "output_type": "stream",
     "text": [
      "100%|██████████| 8000/8000 [00:29<00:00, 266.96it/s]\n"
     ]
    },
    {
     "data": {
      "text/html": [
       "<div>\n",
       "<style scoped>\n",
       "    .dataframe tbody tr th:only-of-type {\n",
       "        vertical-align: middle;\n",
       "    }\n",
       "\n",
       "    .dataframe tbody tr th {\n",
       "        vertical-align: top;\n",
       "    }\n",
       "\n",
       "    .dataframe thead th {\n",
       "        text-align: right;\n",
       "    }\n",
       "</style>\n",
       "<table border=\"1\" class=\"dataframe\">\n",
       "  <thead>\n",
       "    <tr style=\"text-align: right;\">\n",
       "      <th></th>\n",
       "      <th>uid</th>\n",
       "      <th>topic_0</th>\n",
       "      <th>topic_1</th>\n",
       "      <th>topic_2</th>\n",
       "      <th>topic_3</th>\n",
       "      <th>topic_4</th>\n",
       "      <th>topic_5</th>\n",
       "      <th>topic_6</th>\n",
       "      <th>topic_7</th>\n",
       "      <th>topic_8</th>\n",
       "      <th>...</th>\n",
       "      <th>topic_10</th>\n",
       "      <th>topic_11</th>\n",
       "      <th>topic_12</th>\n",
       "      <th>topic_13</th>\n",
       "      <th>topic_14</th>\n",
       "      <th>topic_15</th>\n",
       "      <th>topic_16</th>\n",
       "      <th>topic_17</th>\n",
       "      <th>topic_18</th>\n",
       "      <th>topic_19</th>\n",
       "    </tr>\n",
       "  </thead>\n",
       "  <tbody>\n",
       "    <tr>\n",
       "      <th>0</th>\n",
       "      <td>u105138</td>\n",
       "      <td>0.634940</td>\n",
       "      <td>0.00000</td>\n",
       "      <td>0.0</td>\n",
       "      <td>1.678989</td>\n",
       "      <td>0.000000</td>\n",
       "      <td>0.0</td>\n",
       "      <td>0.00000</td>\n",
       "      <td>0.174285</td>\n",
       "      <td>0.994813</td>\n",
       "      <td>...</td>\n",
       "      <td>0.678219</td>\n",
       "      <td>0.000000</td>\n",
       "      <td>0.000000</td>\n",
       "      <td>0.167000</td>\n",
       "      <td>0.0</td>\n",
       "      <td>0.000000</td>\n",
       "      <td>0.000000</td>\n",
       "      <td>0.00000</td>\n",
       "      <td>0.0</td>\n",
       "      <td>0.471936</td>\n",
       "    </tr>\n",
       "    <tr>\n",
       "      <th>1</th>\n",
       "      <td>u108690</td>\n",
       "      <td>0.658143</td>\n",
       "      <td>0.00000</td>\n",
       "      <td>0.0</td>\n",
       "      <td>1.103372</td>\n",
       "      <td>0.044553</td>\n",
       "      <td>0.0</td>\n",
       "      <td>0.12538</td>\n",
       "      <td>0.429821</td>\n",
       "      <td>0.286912</td>\n",
       "      <td>...</td>\n",
       "      <td>2.060991</td>\n",
       "      <td>0.000000</td>\n",
       "      <td>0.773302</td>\n",
       "      <td>0.101232</td>\n",
       "      <td>0.0</td>\n",
       "      <td>0.211662</td>\n",
       "      <td>0.139379</td>\n",
       "      <td>0.00000</td>\n",
       "      <td>0.0</td>\n",
       "      <td>0.582036</td>\n",
       "    </tr>\n",
       "    <tr>\n",
       "      <th>2</th>\n",
       "      <td>u108339</td>\n",
       "      <td>1.032563</td>\n",
       "      <td>0.07443</td>\n",
       "      <td>0.0</td>\n",
       "      <td>0.999340</td>\n",
       "      <td>0.387270</td>\n",
       "      <td>0.0</td>\n",
       "      <td>0.00000</td>\n",
       "      <td>1.309172</td>\n",
       "      <td>0.496419</td>\n",
       "      <td>...</td>\n",
       "      <td>0.754303</td>\n",
       "      <td>0.070261</td>\n",
       "      <td>0.124998</td>\n",
       "      <td>0.125676</td>\n",
       "      <td>0.0</td>\n",
       "      <td>0.061670</td>\n",
       "      <td>0.541449</td>\n",
       "      <td>0.24762</td>\n",
       "      <td>0.0</td>\n",
       "      <td>0.304043</td>\n",
       "    </tr>\n",
       "  </tbody>\n",
       "</table>\n",
       "<p>3 rows × 21 columns</p>\n",
       "</div>"
      ],
      "text/plain": [
       "       uid   topic_0  topic_1  topic_2   topic_3   topic_4  topic_5  topic_6  \\\n",
       "0  u105138  0.634940  0.00000      0.0  1.678989  0.000000      0.0  0.00000   \n",
       "1  u108690  0.658143  0.00000      0.0  1.103372  0.044553      0.0  0.12538   \n",
       "2  u108339  1.032563  0.07443      0.0  0.999340  0.387270      0.0  0.00000   \n",
       "\n",
       "    topic_7   topic_8  ...  topic_10  topic_11  topic_12  topic_13  topic_14  \\\n",
       "0  0.174285  0.994813  ...  0.678219  0.000000  0.000000  0.167000       0.0   \n",
       "1  0.429821  0.286912  ...  2.060991  0.000000  0.773302  0.101232       0.0   \n",
       "2  1.309172  0.496419  ...  0.754303  0.070261  0.124998  0.125676       0.0   \n",
       "\n",
       "   topic_15  topic_16  topic_17  topic_18  topic_19  \n",
       "0  0.000000  0.000000   0.00000       0.0  0.471936  \n",
       "1  0.211662  0.139379   0.00000       0.0  0.582036  \n",
       "2  0.061670  0.541449   0.24762       0.0  0.304043  \n",
       "\n",
       "[3 rows x 21 columns]"
      ]
     },
     "execution_count": 101,
     "metadata": {},
     "output_type": "execute_result"
    }
   ],
   "source": [
    "from tqdm import tqdm\n",
    "tqdm.pandas()\n",
    "\n",
    "user_embeddings = pd.DataFrame([i for i in users['articles'].progress_apply(lambda x: get_user_embedding_idf(x, doc_dict))])\n",
    "user_embeddings.columns = [f'topic_{i}' for i in range(N_topic)]\n",
    "user_embeddings['uid'] = users['uid'].values\n",
    "user_embeddings = user_embeddings[['uid']+[f'topic_{i}' for i in range(N_topic)]]\n",
    "user_embeddings.head(3)"
   ]
  },
  {
   "cell_type": "code",
   "execution_count": 102,
   "id": "f1224408",
   "metadata": {},
   "outputs": [
    {
     "data": {
      "text/html": [
       "<div>\n",
       "<style scoped>\n",
       "    .dataframe tbody tr th:only-of-type {\n",
       "        vertical-align: middle;\n",
       "    }\n",
       "\n",
       "    .dataframe tbody tr th {\n",
       "        vertical-align: top;\n",
       "    }\n",
       "\n",
       "    .dataframe thead th {\n",
       "        text-align: right;\n",
       "    }\n",
       "</style>\n",
       "<table border=\"1\" class=\"dataframe\">\n",
       "  <thead>\n",
       "    <tr style=\"text-align: right;\">\n",
       "      <th></th>\n",
       "      <th>uid</th>\n",
       "      <th>topic_0</th>\n",
       "      <th>topic_1</th>\n",
       "      <th>topic_2</th>\n",
       "      <th>topic_3</th>\n",
       "      <th>topic_4</th>\n",
       "      <th>topic_5</th>\n",
       "      <th>topic_6</th>\n",
       "      <th>topic_7</th>\n",
       "      <th>topic_8</th>\n",
       "      <th>...</th>\n",
       "      <th>topic_11</th>\n",
       "      <th>topic_12</th>\n",
       "      <th>topic_13</th>\n",
       "      <th>topic_14</th>\n",
       "      <th>topic_15</th>\n",
       "      <th>topic_16</th>\n",
       "      <th>topic_17</th>\n",
       "      <th>topic_18</th>\n",
       "      <th>topic_19</th>\n",
       "      <th>churn</th>\n",
       "    </tr>\n",
       "  </thead>\n",
       "  <tbody>\n",
       "    <tr>\n",
       "      <th>0</th>\n",
       "      <td>u105138</td>\n",
       "      <td>0.634940</td>\n",
       "      <td>0.00000</td>\n",
       "      <td>0.0</td>\n",
       "      <td>1.678989</td>\n",
       "      <td>0.000000</td>\n",
       "      <td>0.0</td>\n",
       "      <td>0.00000</td>\n",
       "      <td>0.174285</td>\n",
       "      <td>0.994813</td>\n",
       "      <td>...</td>\n",
       "      <td>0.000000</td>\n",
       "      <td>0.000000</td>\n",
       "      <td>0.167000</td>\n",
       "      <td>0.0</td>\n",
       "      <td>0.000000</td>\n",
       "      <td>0.000000</td>\n",
       "      <td>0.00000</td>\n",
       "      <td>0.0</td>\n",
       "      <td>0.471936</td>\n",
       "      <td>0</td>\n",
       "    </tr>\n",
       "    <tr>\n",
       "      <th>1</th>\n",
       "      <td>u108690</td>\n",
       "      <td>0.658143</td>\n",
       "      <td>0.00000</td>\n",
       "      <td>0.0</td>\n",
       "      <td>1.103372</td>\n",
       "      <td>0.044553</td>\n",
       "      <td>0.0</td>\n",
       "      <td>0.12538</td>\n",
       "      <td>0.429821</td>\n",
       "      <td>0.286912</td>\n",
       "      <td>...</td>\n",
       "      <td>0.000000</td>\n",
       "      <td>0.773302</td>\n",
       "      <td>0.101232</td>\n",
       "      <td>0.0</td>\n",
       "      <td>0.211662</td>\n",
       "      <td>0.139379</td>\n",
       "      <td>0.00000</td>\n",
       "      <td>0.0</td>\n",
       "      <td>0.582036</td>\n",
       "      <td>1</td>\n",
       "    </tr>\n",
       "    <tr>\n",
       "      <th>2</th>\n",
       "      <td>u108339</td>\n",
       "      <td>1.032563</td>\n",
       "      <td>0.07443</td>\n",
       "      <td>0.0</td>\n",
       "      <td>0.999340</td>\n",
       "      <td>0.387270</td>\n",
       "      <td>0.0</td>\n",
       "      <td>0.00000</td>\n",
       "      <td>1.309172</td>\n",
       "      <td>0.496419</td>\n",
       "      <td>...</td>\n",
       "      <td>0.070261</td>\n",
       "      <td>0.124998</td>\n",
       "      <td>0.125676</td>\n",
       "      <td>0.0</td>\n",
       "      <td>0.061670</td>\n",
       "      <td>0.541449</td>\n",
       "      <td>0.24762</td>\n",
       "      <td>0.0</td>\n",
       "      <td>0.304043</td>\n",
       "      <td>1</td>\n",
       "    </tr>\n",
       "  </tbody>\n",
       "</table>\n",
       "<p>3 rows × 22 columns</p>\n",
       "</div>"
      ],
      "text/plain": [
       "       uid   topic_0  topic_1  topic_2   topic_3   topic_4  topic_5  topic_6  \\\n",
       "0  u105138  0.634940  0.00000      0.0  1.678989  0.000000      0.0  0.00000   \n",
       "1  u108690  0.658143  0.00000      0.0  1.103372  0.044553      0.0  0.12538   \n",
       "2  u108339  1.032563  0.07443      0.0  0.999340  0.387270      0.0  0.00000   \n",
       "\n",
       "    topic_7   topic_8  ...  topic_11  topic_12  topic_13  topic_14  topic_15  \\\n",
       "0  0.174285  0.994813  ...  0.000000  0.000000  0.167000       0.0  0.000000   \n",
       "1  0.429821  0.286912  ...  0.000000  0.773302  0.101232       0.0  0.211662   \n",
       "2  1.309172  0.496419  ...  0.070261  0.124998  0.125676       0.0  0.061670   \n",
       "\n",
       "   topic_16  topic_17  topic_18  topic_19  churn  \n",
       "0  0.000000   0.00000       0.0  0.471936      0  \n",
       "1  0.139379   0.00000       0.0  0.582036      1  \n",
       "2  0.541449   0.24762       0.0  0.304043      1  \n",
       "\n",
       "[3 rows x 22 columns]"
      ]
     },
     "execution_count": 102,
     "metadata": {},
     "output_type": "execute_result"
    }
   ],
   "source": [
    "X = pd.merge(user_embeddings, target, 'left')\n",
    "X.head(3)"
   ]
  },
  {
   "cell_type": "code",
   "execution_count": 103,
   "id": "77e9fb02",
   "metadata": {},
   "outputs": [],
   "source": [
    "# разделим данные на train/test\n",
    "X_train, X_test, y_train, y_test = train_test_split(X[[f'topic_{i}' for i in range(N_topic)]], \n",
    "                                                    X['churn'], random_state=0)"
   ]
  },
  {
   "cell_type": "code",
   "execution_count": 104,
   "id": "44fa221f",
   "metadata": {},
   "outputs": [
    {
     "data": {
      "text/plain": [
       "LogisticRegression()"
      ]
     },
     "execution_count": 104,
     "metadata": {},
     "output_type": "execute_result"
    }
   ],
   "source": [
    "model = LogisticRegression()\n",
    "# обучим \n",
    "model.fit(X_train, y_train)"
   ]
  },
  {
   "cell_type": "code",
   "execution_count": 105,
   "id": "f67ccf91",
   "metadata": {},
   "outputs": [
    {
     "data": {
      "text/plain": [
       "array([2.30607890e-02, 9.37937441e-05, 8.76835612e-01, 4.62554259e-01,\n",
       "       1.02757459e-03, 1.48202788e-04, 3.22113997e-03, 2.13741403e-07,\n",
       "       3.89732545e-01, 1.17743855e-03])"
      ]
     },
     "execution_count": 105,
     "metadata": {},
     "output_type": "execute_result"
    }
   ],
   "source": [
    "# наши прогнозы для тестовой выборки\n",
    "preds = model.predict_proba(X_test)[:, 1]\n",
    "preds[:10]"
   ]
  },
  {
   "cell_type": "code",
   "execution_count": 106,
   "id": "dcb5156b",
   "metadata": {},
   "outputs": [
    {
     "name": "stdout",
     "output_type": "stream",
     "text": [
      "Best Threshold=0.4057836011271337, F-Score=0.855, Precision=0.842, Recall=0.869\n"
     ]
    }
   ],
   "source": [
    "precision, recall, thresholds = precision_recall_curve(y_test, preds)\n",
    "fscore = (2 * precision * recall) / (precision + recall)\n",
    "# locate the index of the largest f score\n",
    "ix = np.argmax(fscore)\n",
    "print(f'Best Threshold={thresholds[ix]}, F-Score={fscore[ix]:.3f}, Precision={precision[ix]:.3f}, Recall={recall[ix]:.3f}')"
   ]
  },
  {
   "cell_type": "code",
   "execution_count": 107,
   "id": "705ec53c",
   "metadata": {},
   "outputs": [
    {
     "data": {
      "text/plain": [
       "0.9869829641258212"
      ]
     },
     "execution_count": 107,
     "metadata": {},
     "output_type": "execute_result"
    }
   ],
   "source": [
    "roc_auc = roc_auc_score(y_test, preds)\n",
    "roc_auc"
   ]
  },
  {
   "cell_type": "markdown",
   "id": "1d24608a",
   "metadata": {},
   "source": [
    "#### Сформировать на выходе единую таблицу, сравнивающую качество 2/3 разных метода получения эмбедингов пользователей: median, max, idf_mean по метрикам roc_auc, precision, recall, f_score"
   ]
  },
  {
   "cell_type": "markdown",
   "id": "4d8ce141",
   "metadata": {},
   "source": [
    "mean -  Best Threshold=0.2509, F-Score=0.766, Precision=0.690, Recall=0.861, roc_auc=0.9719\n",
    "median -Best Threshold=0.3140, F-Score=0.784, Precision=0.824, Recall=0.747, roc_auc=0.9730\n",
    "max -   Best Threshold=0.3415, F-Score=0.727, Precision=0.715, Recall=0.739, roc_auc=0.9603\n",
    "idf -   Best Threshold=0.4057, F-Score=0.855, Precision=0.842, Recall=0.869, roc_auc=0.9869"
   ]
  },
  {
   "cell_type": "code",
   "execution_count": 108,
   "id": "f45a99fa",
   "metadata": {},
   "outputs": [
    {
     "name": "stdout",
     "output_type": "stream",
     "text": [
      "     func  Threshold  F-Score  Precision  Recall  roc_auc\n",
      "0    mean     0.2509    0.766      0.690   0.861   0.9719\n",
      "1  median     0.3140    0.784      0.824   0.747   0.9730\n",
      "2     max     0.3415    0.727      0.715   0.739   0.9603\n",
      "3     idf     0.4057    0.855      0.842   0.869   0.9869\n"
     ]
    }
   ],
   "source": [
    "metrics_df = {\n",
    "    'func' : ['mean', 'median', 'max', 'idf'],\n",
    "    'Threshold' : [0.2509, 0.3140, 0.3415, 0.4057],\n",
    "    'F-Score' : [0.766, 0.784, 0.727, 0.855],\n",
    "    'Precision' : [0.690, 0.824, 0.715, 0.842],\n",
    "    'Recall' : [0.861, 0.747, 0.739, 0.869],\n",
    "    'roc_auc' : [0.9719, 0.9730, 0.9603, 0.9869]\n",
    "}\n",
    " \n",
    "df = pd.DataFrame(metrics_df)\n",
    " \n",
    "print(df)"
   ]
  },
  {
   "cell_type": "markdown",
   "id": "4cbc1b7a",
   "metadata": {},
   "source": [
    "### Вывод:\n",
    "#### Наиболее эффективным оказался способ с использованием  TfidfVectorizer."
   ]
  }
 ],
 "metadata": {
  "kernelspec": {
   "display_name": "Python 3 (ipykernel)",
   "language": "python",
   "name": "python3"
  },
  "language_info": {
   "codemirror_mode": {
    "name": "ipython",
    "version": 3
   },
   "file_extension": ".py",
   "mimetype": "text/x-python",
   "name": "python",
   "nbconvert_exporter": "python",
   "pygments_lexer": "ipython3",
   "version": "3.9.13"
  }
 },
 "nbformat": 4,
 "nbformat_minor": 5
}
