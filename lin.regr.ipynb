{
 "cells": [
  {
   "cell_type": "markdown",
   "id": "c42e5313",
   "metadata": {},
   "source": [
    "## Многомерный статистический анализ. Линейная регрессия"
   ]
  },
  {
   "cell_type": "markdown",
   "id": "7d42774e",
   "metadata": {},
   "source": [
    "### Задание № 1. Даны значения величины заработной платы заемщиков банка (zp) и значения их поведенческого кредитного скоринга (ks): zp = [35, 45, 190, 200, 40, 70, 54, 150, 120, 110], ks = [401, 574, 874, 919, 459, 739, 653, 902, 746, 832]. Используя математические операции, посчитать коэффициенты линейной регрессии, приняв за X заработную плату (то есть, zp - признак), а за y - значения скорингового балла (то есть, ks - целевая переменная). Произвести расчет как с использованием intercept, так и без."
   ]
  },
  {
   "cell_type": "code",
   "execution_count": 2,
   "id": "d4e9989f",
   "metadata": {},
   "outputs": [],
   "source": [
    "import numpy as np\n",
    "import pandas as pd\n",
    "import matplotlib.pyplot as plt\n",
    "%matplotlib inline\n",
    "from sklearn.linear_model import LinearRegression \n",
    "model = LinearRegression()"
   ]
  },
  {
   "cell_type": "code",
   "execution_count": 11,
   "id": "90326ebe",
   "metadata": {},
   "outputs": [],
   "source": [
    "x = np.array([35, 45, 190, 200, 40, 70, 54, 150, 120, 110])\n",
    "y = np.array([401, 574, 874, 919, 459, 739, 653, 902, 746, 832])"
   ]
  },
  {
   "cell_type": "code",
   "execution_count": 12,
   "id": "f6a5db98",
   "metadata": {},
   "outputs": [
    {
     "data": {
      "text/plain": [
       "2.620538882402765"
      ]
     },
     "execution_count": 12,
     "metadata": {},
     "output_type": "execute_result"
    }
   ],
   "source": [
    "#  Считаем, что связь между x и y есть парная регрессия иописывается линейной функцией: y = a + bx\n",
    "# Найдем коэффициенты регрессии a и b:\n",
    "b = (np.mean(x * y) - np.mean(x) * np.mean(y)) / (np.mean(x**2) - np.mean(x) ** 2)\n",
    "b"
   ]
  },
  {
   "cell_type": "code",
   "execution_count": 13,
   "id": "e496d192",
   "metadata": {},
   "outputs": [
    {
     "data": {
      "text/plain": [
       "444.1773573243596"
      ]
     },
     "execution_count": 13,
     "metadata": {},
     "output_type": "execute_result"
    }
   ],
   "source": [
    "a = np.mean(y) - b * np.mean(x)\n",
    "a"
   ]
  },
  {
   "cell_type": "markdown",
   "id": "d977d337",
   "metadata": {},
   "source": [
    "### Уравнение регрессии имеет вид (коэффициенты округлены до сотых):   y = 444.17 + 2.62 * x"
   ]
  },
  {
   "cell_type": "code",
   "execution_count": 14,
   "id": "a1f7c963",
   "metadata": {},
   "outputs": [
    {
     "data": {
      "text/plain": [
       "0.8874900920739162"
      ]
     },
     "execution_count": 14,
     "metadata": {},
     "output_type": "execute_result"
    }
   ],
   "source": [
    "# Найдем коэффициент корреляции r с помощью коэффициента b и средних квадратического отклонения, посчитанного для массивов x и y:\n",
    "r = b * np.std(x) / np.std(y)\n",
    "r"
   ]
  },
  {
   "cell_type": "code",
   "execution_count": 8,
   "id": "354eaf22",
   "metadata": {},
   "outputs": [
    {
     "data": {
      "text/plain": [
       "0.7876386635293682"
      ]
     },
     "execution_count": 8,
     "metadata": {},
     "output_type": "execute_result"
    }
   ],
   "source": [
    "# Найдем коэффициент детерминации R^2:\n",
    "R2 = r**2\n",
    "R2"
   ]
  },
  {
   "cell_type": "code",
   "execution_count": 15,
   "id": "047383a3",
   "metadata": {},
   "outputs": [
    {
     "data": {
      "text/plain": [
       "array([535.89621821, 562.10160703, 942.07974498, 968.2851338 ,\n",
       "       548.99891262, 627.61507909, 585.68645697, 837.25818968,\n",
       "       758.64202321, 732.43663439])"
      ]
     },
     "execution_count": 15,
     "metadata": {},
     "output_type": "execute_result"
    }
   ],
   "source": [
    "# Посчитаем значения, предсказанные моделью\n",
    "y_pred = a + b * x\n",
    "y_pred"
   ]
  },
  {
   "cell_type": "code",
   "execution_count": 16,
   "id": "5fb10fdb",
   "metadata": {},
   "outputs": [
    {
     "data": {
      "text/plain": [
       "11.46925184356171"
      ]
     },
     "execution_count": 16,
     "metadata": {},
     "output_type": "execute_result"
    }
   ],
   "source": [
    "# Качество модели найдем с помощью средней ошибки аппроксимации A:\n",
    "A_mean = 100 * np.mean(np.abs((y - y_pred) / y))\n",
    "A_mean"
   ]
  },
  {
   "cell_type": "markdown",
   "id": "1b7e3f45",
   "metadata": {},
   "source": [
    "#### Так как A равна 11.4%, что  превышает 8-10 %, модель плохо описывает эмпирические данные."
   ]
  },
  {
   "cell_type": "code",
   "execution_count": 20,
   "id": "4bf30461",
   "metadata": {},
   "outputs": [],
   "source": [
    "n = 10\n"
   ]
  },
  {
   "cell_type": "code",
   "execution_count": 21,
   "id": "f90f1720",
   "metadata": {},
   "outputs": [
    {
     "data": {
      "text/plain": [
       "29.671640859664432"
      ]
     },
     "execution_count": 21,
     "metadata": {},
     "output_type": "execute_result"
    }
   ],
   "source": [
    "# Для оценки значимости уравнения регрессии воспользуемся F-критерием Фишера. \n",
    "# Найдем фактическое значение F-критерия (F_факт):\n",
    "F_fact = (r**2 * (n - 2)) / (1 - r**2)\n",
    "F_fact"
   ]
  },
  {
   "cell_type": "markdown",
   "id": "10a0afdf",
   "metadata": {},
   "source": [
    "#### При 5 % уровне значимости и степенях свободы k1 = 1 и k2 = 10 - 2 = 8 табличное значение критерия: F_кр = 5.32. \n",
    "### Так как F_факт = 29.67 > F_кр = 5.32, уравнение регрессии статистически значимо."
   ]
  },
  {
   "cell_type": "code",
   "execution_count": 23,
   "id": "89168bb7",
   "metadata": {},
   "outputs": [],
   "source": [
    "# Для оценки статистической значимости параметров регрессии воспользуемся t-статистикой Стьюдента. \n",
    "# При df = n - 2 = 10 - 2 = 8 и alpha = 0.05  \n",
    "t_cr = 2.306"
   ]
  },
  {
   "cell_type": "code",
   "execution_count": 24,
   "id": "5467a446",
   "metadata": {},
   "outputs": [
    {
     "name": "stdout",
     "output_type": "stream",
     "text": [
      "s_residual = 89.93340731602925\n",
      "m_a = 56.466497550681524\n",
      "m_b = 0.48108279568516\n"
     ]
    }
   ],
   "source": [
    "# Определим стандартную ошибку S_ост (переменная s_residual) и случайные ошибки m_a, m_b:\n",
    "s_residual = np.sqrt(np.sum((y - y_pred)**2) / (n - 2))\n",
    "m_a = s_residual * np.sqrt(np.sum(x ** 2)) / (n * np.std(x))\n",
    "m_b = s_residual / (np.std(x) * np.sqrt(n))\n",
    "\n",
    "print('s_residual = {}\\nm_a = {}\\nm_b = {}'.format(s_residual, m_a, m_b))"
   ]
  },
  {
   "cell_type": "code",
   "execution_count": 25,
   "id": "b7d96334",
   "metadata": {},
   "outputs": [
    {
     "data": {
      "text/plain": [
       "7.866210524668864"
      ]
     },
     "execution_count": 25,
     "metadata": {},
     "output_type": "execute_result"
    }
   ],
   "source": [
    "# Вычислим наблюдаемые значения критерия t_a и t_b:\n",
    "t_a = a / m_a\n",
    "t_a"
   ]
  },
  {
   "cell_type": "code",
   "execution_count": 26,
   "id": "6b56833f",
   "metadata": {},
   "outputs": [
    {
     "data": {
      "text/plain": [
       "5.447168150485579"
      ]
     },
     "execution_count": 26,
     "metadata": {},
     "output_type": "execute_result"
    }
   ],
   "source": [
    "t_b = b / m_b\n",
    "t_b"
   ]
  },
  {
   "cell_type": "code",
   "execution_count": 27,
   "id": "662644e5",
   "metadata": {},
   "outputs": [
    {
     "data": {
      "text/plain": [
       "True"
      ]
     },
     "execution_count": 27,
     "metadata": {},
     "output_type": "execute_result"
    }
   ],
   "source": [
    "t_a > t_cr"
   ]
  },
  {
   "cell_type": "code",
   "execution_count": 28,
   "id": "266ca846",
   "metadata": {},
   "outputs": [
    {
     "data": {
      "text/plain": [
       "True"
      ]
     },
     "execution_count": 28,
     "metadata": {},
     "output_type": "execute_result"
    }
   ],
   "source": [
    "t_b > t_cr"
   ]
  },
  {
   "cell_type": "markdown",
   "id": "e10bb95f",
   "metadata": {},
   "source": [
    "#### Фактические значения t-статистики больше табличного значения: то есть они статистически значимы."
   ]
  },
  {
   "cell_type": "code",
   "execution_count": 29,
   "id": "70fde82c",
   "metadata": {},
   "outputs": [
    {
     "data": {
      "text/plain": [
       "130.2117433518716"
      ]
     },
     "execution_count": 29,
     "metadata": {},
     "output_type": "execute_result"
    }
   ],
   "source": [
    "# Рассчитаем доверительные интервалы для параметров регрессии a и b. Для этого определим предельную ошибку для каждого показателя (Delta_a и Delta_b),\n",
    "# используя значение t_cr = 2.306:\n",
    "delta_a = t_cr * m_a\n",
    "delta_a"
   ]
  },
  {
   "cell_type": "code",
   "execution_count": 30,
   "id": "afbef9f1",
   "metadata": {},
   "outputs": [
    {
     "data": {
      "text/plain": [
       "1.109376926849979"
      ]
     },
     "execution_count": 30,
     "metadata": {},
     "output_type": "execute_result"
    }
   ],
   "source": [
    "delta_b = t_cr * m_b\n",
    "delta_b"
   ]
  },
  {
   "cell_type": "code",
   "execution_count": 31,
   "id": "7451459f",
   "metadata": {},
   "outputs": [
    {
     "data": {
      "text/plain": [
       "313.965613972488"
      ]
     },
     "execution_count": 31,
     "metadata": {},
     "output_type": "execute_result"
    }
   ],
   "source": [
    "# Найдем границы доверительных интервалов gamma a_min, gamma a_max, gamma b_min, \\gamma b_max:\n",
    "gamma_a_min = a - delta_a\n",
    "gamma_a_min"
   ]
  },
  {
   "cell_type": "code",
   "execution_count": 32,
   "id": "5d6df5ac",
   "metadata": {},
   "outputs": [
    {
     "data": {
      "text/plain": [
       "574.3891006762312"
      ]
     },
     "execution_count": 32,
     "metadata": {},
     "output_type": "execute_result"
    }
   ],
   "source": [
    "gamma_a_max = a + delta_a\n",
    "gamma_a_max"
   ]
  },
  {
   "cell_type": "code",
   "execution_count": 33,
   "id": "dd12f2d4",
   "metadata": {},
   "outputs": [
    {
     "data": {
      "text/plain": [
       "1.511161955552786"
      ]
     },
     "execution_count": 33,
     "metadata": {},
     "output_type": "execute_result"
    }
   ],
   "source": [
    "gamma_b_min = b - delta_b\n",
    "gamma_b_min"
   ]
  },
  {
   "cell_type": "code",
   "execution_count": 34,
   "id": "dbcb3b7f",
   "metadata": {},
   "outputs": [
    {
     "data": {
      "text/plain": [
       "3.729915809252744"
      ]
     },
     "execution_count": 34,
     "metadata": {},
     "output_type": "execute_result"
    }
   ],
   "source": [
    "gamma_b_max = b + delta_b\n",
    "gamma_b_max"
   ]
  },
  {
   "cell_type": "markdown",
   "id": "d71d5d85",
   "metadata": {},
   "source": [
    "#### Приходим к выводу о том, что с вероятностью p = 1 - alpha = 0.95 параметры a и b, находясь в указанных границах, являются статистически значимыми и отличны от нуля. "
   ]
  },
  {
   "cell_type": "code",
   "execution_count": 35,
   "id": "93f6b57d",
   "metadata": {},
   "outputs": [
    {
     "data": {
      "text/html": [
       "<div>\n",
       "<style scoped>\n",
       "    .dataframe tbody tr th:only-of-type {\n",
       "        vertical-align: middle;\n",
       "    }\n",
       "\n",
       "    .dataframe tbody tr th {\n",
       "        vertical-align: top;\n",
       "    }\n",
       "\n",
       "    .dataframe thead th {\n",
       "        text-align: right;\n",
       "    }\n",
       "</style>\n",
       "<table border=\"1\" class=\"dataframe\">\n",
       "  <thead>\n",
       "    <tr style=\"text-align: right;\">\n",
       "      <th></th>\n",
       "      <th>x</th>\n",
       "      <th>y</th>\n",
       "      <th>y_pred</th>\n",
       "    </tr>\n",
       "  </thead>\n",
       "  <tbody>\n",
       "    <tr>\n",
       "      <th>0</th>\n",
       "      <td>35</td>\n",
       "      <td>401</td>\n",
       "      <td>535.896218</td>\n",
       "    </tr>\n",
       "    <tr>\n",
       "      <th>1</th>\n",
       "      <td>45</td>\n",
       "      <td>574</td>\n",
       "      <td>562.101607</td>\n",
       "    </tr>\n",
       "    <tr>\n",
       "      <th>2</th>\n",
       "      <td>190</td>\n",
       "      <td>874</td>\n",
       "      <td>942.079745</td>\n",
       "    </tr>\n",
       "    <tr>\n",
       "      <th>3</th>\n",
       "      <td>200</td>\n",
       "      <td>919</td>\n",
       "      <td>968.285134</td>\n",
       "    </tr>\n",
       "    <tr>\n",
       "      <th>4</th>\n",
       "      <td>40</td>\n",
       "      <td>459</td>\n",
       "      <td>548.998913</td>\n",
       "    </tr>\n",
       "    <tr>\n",
       "      <th>5</th>\n",
       "      <td>70</td>\n",
       "      <td>739</td>\n",
       "      <td>627.615079</td>\n",
       "    </tr>\n",
       "    <tr>\n",
       "      <th>6</th>\n",
       "      <td>54</td>\n",
       "      <td>653</td>\n",
       "      <td>585.686457</td>\n",
       "    </tr>\n",
       "    <tr>\n",
       "      <th>7</th>\n",
       "      <td>150</td>\n",
       "      <td>902</td>\n",
       "      <td>837.258190</td>\n",
       "    </tr>\n",
       "    <tr>\n",
       "      <th>8</th>\n",
       "      <td>120</td>\n",
       "      <td>746</td>\n",
       "      <td>758.642023</td>\n",
       "    </tr>\n",
       "    <tr>\n",
       "      <th>9</th>\n",
       "      <td>110</td>\n",
       "      <td>832</td>\n",
       "      <td>732.436634</td>\n",
       "    </tr>\n",
       "  </tbody>\n",
       "</table>\n",
       "</div>"
      ],
      "text/plain": [
       "     x    y      y_pred\n",
       "0   35  401  535.896218\n",
       "1   45  574  562.101607\n",
       "2  190  874  942.079745\n",
       "3  200  919  968.285134\n",
       "4   40  459  548.998913\n",
       "5   70  739  627.615079\n",
       "6   54  653  585.686457\n",
       "7  150  902  837.258190\n",
       "8  120  746  758.642023\n",
       "9  110  832  732.436634"
      ]
     },
     "execution_count": 35,
     "metadata": {},
     "output_type": "execute_result"
    }
   ],
   "source": [
    "# Поместим исходные и предсказанные данные в датафрейм:\n",
    "df = pd.DataFrame({'x': x, 'y': y, 'y_pred': y_pred}, columns=['x', 'y', 'y_pred'])\n",
    "df"
   ]
  },
  {
   "cell_type": "code",
   "execution_count": 36,
   "id": "ec8a0e1b",
   "metadata": {},
   "outputs": [
    {
     "data": {
      "text/html": [
       "<div>\n",
       "<style scoped>\n",
       "    .dataframe tbody tr th:only-of-type {\n",
       "        vertical-align: middle;\n",
       "    }\n",
       "\n",
       "    .dataframe tbody tr th {\n",
       "        vertical-align: top;\n",
       "    }\n",
       "\n",
       "    .dataframe thead th {\n",
       "        text-align: right;\n",
       "    }\n",
       "</style>\n",
       "<table border=\"1\" class=\"dataframe\">\n",
       "  <thead>\n",
       "    <tr style=\"text-align: right;\">\n",
       "      <th></th>\n",
       "      <th>x</th>\n",
       "      <th>y</th>\n",
       "      <th>y_pred</th>\n",
       "    </tr>\n",
       "  </thead>\n",
       "  <tbody>\n",
       "    <tr>\n",
       "      <th>0</th>\n",
       "      <td>35</td>\n",
       "      <td>401</td>\n",
       "      <td>535.896218</td>\n",
       "    </tr>\n",
       "    <tr>\n",
       "      <th>4</th>\n",
       "      <td>40</td>\n",
       "      <td>459</td>\n",
       "      <td>548.998913</td>\n",
       "    </tr>\n",
       "    <tr>\n",
       "      <th>1</th>\n",
       "      <td>45</td>\n",
       "      <td>574</td>\n",
       "      <td>562.101607</td>\n",
       "    </tr>\n",
       "    <tr>\n",
       "      <th>6</th>\n",
       "      <td>54</td>\n",
       "      <td>653</td>\n",
       "      <td>585.686457</td>\n",
       "    </tr>\n",
       "    <tr>\n",
       "      <th>5</th>\n",
       "      <td>70</td>\n",
       "      <td>739</td>\n",
       "      <td>627.615079</td>\n",
       "    </tr>\n",
       "    <tr>\n",
       "      <th>9</th>\n",
       "      <td>110</td>\n",
       "      <td>832</td>\n",
       "      <td>732.436634</td>\n",
       "    </tr>\n",
       "    <tr>\n",
       "      <th>8</th>\n",
       "      <td>120</td>\n",
       "      <td>746</td>\n",
       "      <td>758.642023</td>\n",
       "    </tr>\n",
       "    <tr>\n",
       "      <th>7</th>\n",
       "      <td>150</td>\n",
       "      <td>902</td>\n",
       "      <td>837.258190</td>\n",
       "    </tr>\n",
       "    <tr>\n",
       "      <th>2</th>\n",
       "      <td>190</td>\n",
       "      <td>874</td>\n",
       "      <td>942.079745</td>\n",
       "    </tr>\n",
       "    <tr>\n",
       "      <th>3</th>\n",
       "      <td>200</td>\n",
       "      <td>919</td>\n",
       "      <td>968.285134</td>\n",
       "    </tr>\n",
       "  </tbody>\n",
       "</table>\n",
       "</div>"
      ],
      "text/plain": [
       "     x    y      y_pred\n",
       "0   35  401  535.896218\n",
       "4   40  459  548.998913\n",
       "1   45  574  562.101607\n",
       "6   54  653  585.686457\n",
       "5   70  739  627.615079\n",
       "9  110  832  732.436634\n",
       "8  120  746  758.642023\n",
       "7  150  902  837.258190\n",
       "2  190  874  942.079745\n",
       "3  200  919  968.285134"
      ]
     },
     "execution_count": 36,
     "metadata": {},
     "output_type": "execute_result"
    }
   ],
   "source": [
    "df = df.sort_values('x')\n",
    "df"
   ]
  },
  {
   "cell_type": "code",
   "execution_count": 37,
   "id": "49b2c0eb",
   "metadata": {},
   "outputs": [
    {
     "data": {
      "image/png": "[encoded data removed]",
      "text/plain": [
       "<Figure size 640x480 with 1 Axes>"
      ]
     },
     "metadata": {},
     "output_type": "display_data"
    }
   ],
   "source": [
    "# Построим на одном графике исходные данные и теоретическую прямую, построенную по уравнению регрессии:\n",
    "import matplotlib.pyplot as plt\n",
    "\n",
    "plt.scatter(df['x'], df['y'])\n",
    "plt.plot(df['x'], df['y_pred'])\n",
    "plt.xlabel('Заработная плата')\n",
    "plt.ylabel('Скоринговый балл')\n",
    "plt.show()"
   ]
  },
  {
   "cell_type": "markdown",
   "id": "d48f7b4a",
   "metadata": {},
   "source": [
    "## Проведем расчет без использования intercept в матричном виде"
   ]
  },
  {
   "cell_type": "code",
   "execution_count": 38,
   "id": "00c6a4b2",
   "metadata": {},
   "outputs": [
    {
     "data": {
      "text/plain": [
       "array([[ 35,  45, 190, 200,  40,  70,  54, 150, 120, 110]])"
      ]
     },
     "execution_count": 38,
     "metadata": {},
     "output_type": "execute_result"
    }
   ],
   "source": [
    "zp = x.reshape((1,-1 ))\n",
    "zp"
   ]
  },
  {
   "cell_type": "code",
   "execution_count": 39,
   "id": "760be53e",
   "metadata": {},
   "outputs": [
    {
     "data": {
      "text/plain": [
       "array([[401, 574, 874, 919, 459, 739, 653, 902, 746, 832]])"
      ]
     },
     "execution_count": 39,
     "metadata": {},
     "output_type": "execute_result"
    }
   ],
   "source": [
    "ks = y.reshape((1,-1 ))\n",
    "ks"
   ]
  },
  {
   "cell_type": "code",
   "execution_count": 40,
   "id": "a5a25ec6",
   "metadata": {},
   "outputs": [
    {
     "data": {
      "text/plain": [
       "array([[5.88982042]])"
      ]
     },
     "execution_count": 40,
     "metadata": {},
     "output_type": "execute_result"
    }
   ],
   "source": [
    "(np.linalg.inv(zp @ zp.T) @ zp) @ ks.T"
   ]
  },
  {
   "cell_type": "code",
   "execution_count": 41,
   "id": "114cbc52",
   "metadata": {},
   "outputs": [
    {
     "data": {
      "text/plain": [
       "[<matplotlib.lines.Line2D at 0x2811ac163a0>]"
      ]
     },
     "execution_count": 41,
     "metadata": {},
     "output_type": "execute_result"
    },
    {
     "data": {
      "image/png": "[encoded data removed]",
      "text/plain": [
       "<Figure size 640x480 with 1 Axes>"
      ]
     },
     "metadata": {},
     "output_type": "display_data"
    }
   ],
   "source": [
    "plt.scatter(zp[0], ks[0])\n",
    "plt.plot(zp[0], zp[0]*5.88982042)"
   ]
  },
  {
   "cell_type": "markdown",
   "id": "e34ca800",
   "metadata": {},
   "source": [
    "### Задание 3 В каких случаях для вычисления доверительных интервалов и проверки статистических гипотез используется таблица значений функции Лапласа, а в каких - таблица критических точек распределения Стьюдента?\n",
    "\n",
    "### Таблица критических точек распределения Стьюдента применяется, когда неизвесто математическое ожидание и дисперсия генеральной совокупности, но мы знаем что величины распределены нормально.\n",
    "\n",
    "### Таблица значений функции Лапласа применяется для случаев, когда мы знаем среднее и дисперсию генеральной совокупности и величины распеределены нормально."
   ]
  },
  {
   "cell_type": "code",
   "execution_count": null,
   "id": "7ea78e82",
   "metadata": {},
   "outputs": [],
   "source": []
  }
 ],
 "metadata": {
  "kernelspec": {
   "display_name": "Python 3 (ipykernel)",
   "language": "python",
   "name": "python3"
  },
  "language_info": {
   "codemirror_mode": {
    "name": "ipython",
    "version": 3
   },
   "file_extension": ".py",
   "mimetype": "text/x-python",
   "name": "python",
   "nbconvert_exporter": "python",
   "pygments_lexer": "ipython3",
   "version": "3.9.13"
  }
 },
 "nbformat": 4,
 "nbformat_minor": 5
}
