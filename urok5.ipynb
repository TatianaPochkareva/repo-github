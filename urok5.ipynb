{
 "cells": [
  {
   "cell_type": "code",
   "execution_count": 25,
   "id": "389e944b",
   "metadata": {
    "collapsed": true
   },
   "outputs": [],
   "source": [
    "%matplotlib inline\n",
    "import numpy as np\n"
   ]
  },
  {
   "cell_type": "code",
   "execution_count": 6,
   "id": "aa3a2470",
   "metadata": {},
   "outputs": [
    {
     "name": "stdout",
     "output_type": "stream",
     "text": [
      "25\n",
      "black\n",
      "20\n",
      "red\n",
      "26\n",
      "red\n",
      "5\n",
      "black\n",
      "8\n",
      "red\n",
      "3\n",
      "black\n",
      "0\n",
      "zero\n",
      "0\n",
      "zero\n",
      "22\n",
      "red\n",
      "12\n",
      "red\n"
     ]
    }
   ],
   "source": [
    "# Задача 1. Напишите код, моделирующий выпадение поля в рулетке (с учетом поля зеро).\n",
    "\n",
    "for i in range(0, 10):\n",
    "    x = np.random.randint(0, 36)\n",
    "    print(int(x))\n",
    "    if x % 2:\n",
    "        print('black')\n",
    "    elif x == 0:\n",
    "        print('zero')     \n",
    "    else:\n",
    "        print('red')\n",
    "\n",
    "     "
   ]
  },
  {
   "cell_type": "code",
   "execution_count": 42,
   "id": "93dc3a6d",
   "metadata": {
    "collapsed": true
   },
   "outputs": [],
   "source": [
    "import matplotlib.pyplot as plt\n",
    "import matplotlib.mlab as mlab"
   ]
  },
  {
   "cell_type": "code",
   "execution_count": 63,
   "id": "dbe75e62",
   "metadata": {},
   "outputs": [
    {
     "name": "stdout",
     "output_type": "stream",
     "text": [
      "1\n",
      "4\n"
     ]
    }
   ],
   "source": [
    "# Задача 2.1  Напишите код, проверяющий любую из теорем сложения или умножения вероятности на примере\n",
    "# рулетки или подбрасывания  монетки.\n",
    "\n",
    "k, m = 0, 0\n",
    "pk = 0.5\n",
    "pm = 0.5\n",
    "for i in range(0, 5):\n",
    "    i = np.random.uniform(0, 10)\n",
    "    if i > 5:\n",
    "        k += 1\n",
    "    else:\n",
    "        m += 1\n",
    "if (pk + pm) == k or (pk + pm) == m:\n",
    "    print(m)\n",
    "    print(k)"
   ]
  },
  {
   "cell_type": "code",
   "execution_count": 60,
   "id": "83401dfb",
   "metadata": {},
   "outputs": [
    {
     "data": {
      "text/plain": [
       "(array([2., 1., 0., 2., 0., 3., 0., 0., 0., 2.]),\n",
       " array([-3.61741716e+00, -2.71344460e+00, -1.80947204e+00, -9.05499473e-01,\n",
       "        -1.52691014e-03,  9.02445652e-01,  1.80641822e+00,  2.71039078e+00,\n",
       "         3.61436334e+00,  4.51833590e+00,  5.42230847e+00]),\n",
       " <BarContainer object of 10 artists>)"
      ]
     },
     "execution_count": 60,
     "metadata": {},
     "output_type": "execute_result"
    },
    {
     "data": {
      "image/png": "[encoded data removed]",
      "text/plain": [
       "<Figure size 640x480 with 1 Axes>"
      ]
     },
     "metadata": {},
     "output_type": "display_data"
    }
   ],
   "source": [
    "# Задача 2.2 Сгенерируйте десять выборок случайных чисел х0, …, х9 и постройте гистограмму распределения случайной суммы \n",
    "#+х0+ …+ х 9. \n",
    "x0 = np.random.randn(10)\n",
    "x1 = np.random.randn(10)\n",
    "x2 = np.random.randn(10)\n",
    "x3 = np.random.randn(10)\n",
    "x4 = np.random.randn(10)\n",
    "x5 = np.random.randn(10)\n",
    "x6 = np.random.randn(10)\n",
    "x7 = np.random.randn(10)\n",
    "x8 = np.random.randn(10)\n",
    "x9 = np.random.randn(10)\n",
    "x_sum = x0 + x1 + x2 + x3 + x4 + x5 + x6 + x7 + x8 + x9\n",
    "x_sum\n",
    "\n",
    "plt.hist(x_sum)"
   ]
  },
  {
   "cell_type": "code",
   "execution_count": 58,
   "id": "4c259a1c",
   "metadata": {},
   "outputs": [
    {
     "name": "stdout",
     "output_type": "stream",
     "text": [
      "350 1000 0.35\n"
     ]
    }
   ],
   "source": [
    "#  Задача 3.1 Дополните код Монте-Карло последовательности независимых испытаний расчетом \n",
    "# соответствующих вероятностей (через биномиальное распределение) и сравните результаты.\n",
    "# C(из 4 по 2) = 4!/2!(4-2)! = 432/22 = 24/4 = 6 P(из 4 по 2) = 6/2*4 \n",
    "\n",
    "k = 0\n",
    "n = 1000\n",
    "a = np.random.randint(0, 2, n)\n",
    "b = np.random.randint(0, 2, n)\n",
    "c = np.random.randint(0, 2, n)\n",
    "d = np.random.randint(0, 2, n)\n",
    "x = a + b + c + d\n",
    "for i in range(0, n):\n",
    "    if x[i] == 2:\n",
    "        k = k + 1\n",
    "print(k, n, k/n)\n"
   ]
  },
  {
   "cell_type": "code",
   "execution_count": 59,
   "id": "16ac206c",
   "metadata": {},
   "outputs": [
    {
     "data": {
      "text/plain": [
       "0.375"
      ]
     },
     "execution_count": 59,
     "metadata": {},
     "output_type": "execute_result"
    }
   ],
   "source": [
    "P = 6 / 2**4\n",
    "P"
   ]
  },
  {
   "cell_type": "code",
   "execution_count": 64,
   "id": "5a1325c1",
   "metadata": {},
   "outputs": [
    {
     "name": "stdout",
     "output_type": "stream",
     "text": [
      "308 1000 0.308\n"
     ]
    }
   ],
   "source": [
    "# Задача 3.2 Повторите расчеты биномиальных коэффициентов и вероятностей k успехов в последовательности из n независимых \n",
    "# испытаний, взяв другие значения n и k.\n",
    "\n",
    "k = 0\n",
    "n = 1000\n",
    "a = np.random.randint(0, 2, n)\n",
    "b = np.random.randint(0, 2, n)\n",
    "c = np.random.randint(0, 2, n)\n",
    "d = np.random.randint(0, 2, n)\n",
    "e = np.random.randint(0, 2, n)\n",
    "x = a + b + c + d + e\n",
    "for i in range(0, n):\n",
    "    if x[i] == 3:\n",
    "        k = k + 1\n",
    "print(k, n, k/n)"
   ]
  },
  {
   "cell_type": "code",
   "execution_count": 65,
   "id": "9e35ce7f",
   "metadata": {},
   "outputs": [
    {
     "data": {
      "text/plain": [
       "0.3125"
      ]
     },
     "execution_count": 65,
     "metadata": {},
     "output_type": "execute_result"
    }
   ],
   "source": [
    "C_5_3 = 5*4*3*2 / (3*2*2)\n",
    "P_5_3 = C_5_3 / 2**5\n",
    "P_5_3"
   ]
  },
  {
   "cell_type": "code",
   "execution_count": 66,
   "id": "7ac12806",
   "metadata": {},
   "outputs": [
    {
     "name": "stdout",
     "output_type": "stream",
     "text": [
      "012\n",
      "021\n",
      "102\n",
      "120\n",
      "201\n",
      "210\n"
     ]
    }
   ],
   "source": [
    "# Задача 4. Из урока по комбинаторике повторите расчеты, сгенерировав возможные варианты перестановок для других значений n и k\n",
    "\n",
    "import itertools\n",
    "for p in itertools.permutations('012', 3):\n",
    "    print(''.join(str(x) for x in p))"
   ]
  },
  {
   "cell_type": "code",
   "execution_count": 67,
   "id": "ccede119",
   "metadata": {},
   "outputs": [
    {
     "name": "stdout",
     "output_type": "stream",
     "text": [
      "012\n",
      "013\n",
      "015\n",
      "023\n",
      "025\n",
      "035\n",
      "123\n",
      "125\n",
      "135\n",
      "235\n"
     ]
    }
   ],
   "source": [
    "for p in itertools.combinations('01235', 3):\n",
    "    print(''.join(p))"
   ]
  },
  {
   "cell_type": "code",
   "execution_count": 68,
   "id": "a2ffd406",
   "metadata": {},
   "outputs": [
    {
     "name": "stdout",
     "output_type": "stream",
     "text": [
      "0.7326517562133852 0.13537736762677732\n",
      "0.7326517562133854 0.13537736762677727\n",
      "[[1.         0.93218936]\n",
      " [0.93218936 1.        ]]\n"
     ]
    },
    {
     "data": {
      "image/png": "[encoded data removed]",
      "text/plain": [
       "<Figure size 640x480 with 1 Axes>"
      ]
     },
     "metadata": {},
     "output_type": "display_data"
    }
   ],
   "source": [
    "# Задача 5.ополните код расчетом коэффициента корреляции x и y по формуле:\n",
    "# R = sum((xi - xm)(yi - ym))/sqr(sum((xi - xm) ** 2) * (sum((yi - ym) ** 2)))\n",
    "\n",
    "n = 100\n",
    "r = 0.7\n",
    "x = np.random.rand(n)\n",
    "y = r*x + (1 - r)*np.random.rand(n)\n",
    "\n",
    "    \n",
    "plt.plot(x, y, 'o')\n",
    "plt.xlabel('x')\n",
    "plt.ylabel('y')\n",
    "plt.grid(True)\n",
    "\n",
    "a = (np.sum(x)*np.sum(y) - n*np.sum(x*y))/(np.sum(x)*np.sum(x) - n*np.sum(x*x))\n",
    "b = (np.sum(y) - a*np.sum(x))/n\n",
    "def mean(a, axis=None, dtype=None, out=None, keepdims=np._NoValue, *,\n",
    "         where=np._NoValue): \n",
    "    c = (np.sum((x - x.mean)(y - y.mean)) / np.sqr(np.sum((x - x.mean) ** 2) * (np.sum((y - y.mean) ** 2))))\n",
    "\n",
    "A = np.vstack([x, np.ones(len(x))]).T\n",
    "a1, b1 = np.linalg.lstsq(A, y)[0]\n",
    "c = np.corrcoef(x, y)\n",
    "\n",
    "print(a, b)\n",
    "print(a1, b1)\n",
    "print(c)\n",
    "plt.plot([0, 1], [b, a + b])\n",
    "plt.show()"
   ]
  },
  {
   "cell_type": "code",
   "execution_count": null,
   "id": "d75a98fb",
   "metadata": {
    "collapsed": true
   },
   "outputs": [],
   "source": []
  }
 ],
 "metadata": {
  "kernelspec": {
   "display_name": "Python 3 (ipykernel)",
   "language": "python",
   "name": "python3"
  },
  "language_info": {
   "codemirror_mode": {
    "name": "ipython",
    "version": 3
   },
   "file_extension": ".py",
   "mimetype": "text/x-python",
   "name": "python",
   "nbconvert_exporter": "python",
   "pygments_lexer": "ipython3",
   "version": "3.9.13"
  }
 },
 "nbformat": 4,
 "nbformat_minor": 5
}
